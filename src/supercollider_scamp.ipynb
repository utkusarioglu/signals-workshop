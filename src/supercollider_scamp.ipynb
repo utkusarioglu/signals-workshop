{
 "cells": [
  {
   "cell_type": "code",
   "execution_count": 1,
   "metadata": {},
   "outputs": [],
   "source": [
    "from pythonosc import udp_client\n",
    "from itertools import chain\n",
    "import numpy as np\n",
    "from json import loads\n",
    "\n",
    "\n",
    "def createUdpClient():\n",
    "    with open(\"../.scd_specs\", \"r\") as specs:\n",
    "        langPort = loads(specs.read())[\"langPort\"]\n",
    "        print(f\"langPort: {langPort}\")\n",
    "        return udp_client.SimpleUDPClient(\"192.168.1.151\", langPort)"
   ]
  },
  {
   "cell_type": "code",
   "execution_count": 8,
   "metadata": {},
   "outputs": [
    {
     "name": "stdout",
     "output_type": "stream",
     "text": [
      "langPort: 57121\n"
     ]
    }
   ],
   "source": [
    "# JS Bach, BWV 147 No.10 - Jesu, Joy of Man's Desiring\n",
    "# fmt: off\n",
    "melody = np.array( [\n",
    "        [ 0, 2, 4, 7, 5, 5, 9, 7, 7, 12, 11, 12, 7, 4, 0, 2, 4, ],\n",
    "        [ 5, 7, 9, 7, 5, 4, 2, 4, 0, -1, 0, 2, -5, -1, 2, 5, 4, 2, 4, ],\n",
    "        [ 0, 2, 4, 7, 5, 5, 9, 7, 7, 12, 11, 12, 7, 4, ],\n",
    "        [ 0, 2, 4, 5, 7, 5, 4, 2, 0, -5, 0, -1, 0, 4, 7, 12, 7, 4, ],\n",
    "    ],\n",
    "    dtype=object,\n",
    ")\n",
    "# fmt: on\n",
    "\n",
    "sequence = np.hstack(melody).tolist()\n",
    "# sequence = [0, 4, 7, 12, 7, 4, 0]\n",
    "# sequence = [0, 0, 4, 5, 0, 0, 4, 5]\n",
    "# sequence = []\n",
    "tempo = 65\n",
    "speed = 1 / 3\n",
    "root = 50\n",
    "repeat = 16\n",
    "message = [tempo, speed, root, repeat, *sequence]\n",
    "createUdpClient().send_message(\"/melody\", message)"
   ]
  }
 ],
 "metadata": {
  "kernelspec": {
   "display_name": "Python 3.9.16 ('default')",
   "language": "python",
   "name": "python3"
  },
  "language_info": {
   "codemirror_mode": {
    "name": "ipython",
    "version": 3
   },
   "file_extension": ".py",
   "mimetype": "text/x-python",
   "name": "python",
   "nbconvert_exporter": "python",
   "pygments_lexer": "ipython3",
   "version": "3.11.6"
  },
  "orig_nbformat": 4,
  "vscode": {
   "interpreter": {
    "hash": "b19c504e0abe9af0b80e78d873495a79ef781516362c519732adc3cb489b6869"
   }
  }
 },
 "nbformat": 4,
 "nbformat_minor": 2
}
