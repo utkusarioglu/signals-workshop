{
 "cells": [
  {
   "cell_type": "code",
   "execution_count": 18,
   "metadata": {},
   "outputs": [],
   "source": [
    "from scamp import test_run, Session, wait\n",
    "from scamp_extensions.pitch import Scale\n",
    "import random\n",
    "import time\n",
    "from pythonosc import udp_client\n",
    "from config import ARTIFACTS_RELPATH\n",
    "from scamp_utils import set_default_scamp_settings\n",
    "from connection.touchosc import TOUCHOSC_CONNECTION_PROPS, test_run\n",
    "from random import random, choice, randrange\n",
    "\n",
    "set_default_scamp_settings()"
   ]
  },
  {
   "cell_type": "markdown",
   "metadata": {},
   "source": [
    "## Using Scamp's osc methods"
   ]
  },
  {
   "cell_type": "code",
   "execution_count": 4,
   "metadata": {},
   "outputs": [],
   "source": [
    "session = Session().run_as_server()\n",
    "piano = session.new_osc_part(**TOUCHOSC_CONNECTION_PROPS)"
   ]
  },
  {
   "cell_type": "code",
   "execution_count": 32,
   "metadata": {},
   "outputs": [
    {
     "name": "stdout",
     "output_type": "stream",
     "text": [
      "Running sequence:  [50, 53, 56, 59, 62, 65, 68, 70, 67, 64, 61, 58, 55, 52]\n",
      "Repeat:  0\n",
      "Repeat:  1\n",
      "Repeat:  2\n",
      "Repeat:  3\n",
      "Repeat:  4\n"
     ]
    }
   ],
   "source": [
    "test_run(session, piano, 50, 70, 3, [0, 4], 5)"
   ]
  },
  {
   "cell_type": "markdown",
   "metadata": {},
   "source": [
    "## Scamp tutorial series\n",
    "\n",
    "This section starts the scamp tutorial practice once again"
   ]
  },
  {
   "cell_type": "code",
   "execution_count": 5,
   "metadata": {},
   "outputs": [],
   "source": [
    "session.tempo = 30\n",
    "for pitch in (48, 53, 67):\n",
    "    piano.play_note(pitch, 127, 1.0, blocking=False)\n",
    "    wait(1.0)"
   ]
  },
  {
   "cell_type": "code",
   "execution_count": 4,
   "metadata": {},
   "outputs": [],
   "source": [
    "session = Session().run_as_server()\n",
    "piano = session.new_osc_part(**TOUCHOSC_CONNECTION_PROPS)\n",
    "\n",
    "interval = 1\n",
    "piano_pitch = 48\n",
    "forte_piano = 127\n",
    "diminuendo = 50\n",
    "low = 36\n",
    "high = 60\n",
    "\n",
    "note_choices = [0.1, 0.2, 0.5, 1, 1.5, 2, 3]\n",
    "rest_choices = [0.1, 0.2, 0.5, 1]\n",
    "bar_lines = []\n",
    "\n",
    "session.tempo = 120\n",
    "while session.time() < 30:\n",
    "    if random() < 0.7:\n",
    "        piano.play_note(piano_pitch, forte_piano, choice(note_choices))\n",
    "        wait(choice(rest_choices))\n",
    "    else:\n",
    "        bar_lines.append(session.time())\n",
    "        piano.play_note(piano_pitch, diminuendo, choice(note_choices))\n",
    "        wait(choice(rest_choices))\n",
    "\n",
    "    piano_pitch = (piano_pitch + interval - low) % (high - low) + low\n",
    "    interval += 1"
   ]
  },
  {
   "cell_type": "markdown",
   "metadata": {},
   "source": [
    "## Basic drum loop"
   ]
  },
  {
   "cell_type": "code",
   "execution_count": 57,
   "metadata": {},
   "outputs": [
    {
     "data": {
      "text/plain": [
       "Clock('rest')[Clock('DO_PLAY_NOTE')[], Clock('DO_PLAY_NOTE')[]]"
      ]
     },
     "execution_count": 57,
     "metadata": {},
     "output_type": "execute_result"
    }
   ],
   "source": [
    "session = Session().run_as_server()\n",
    "drums = session.new_osc_part(**TOUCHOSC_CONNECTION_PROPS)\n",
    "\n",
    "session.tempo = 60\n",
    "SESSION_DURATION = 10\n",
    "\n",
    "SNARE_CODE = 40\n",
    "KICK_CODE = 36\n",
    "CYMBAL_CODE = 32\n",
    "HIHAT_CODE = 25\n",
    "\n",
    "\n",
    "def fff():\n",
    "    return 122 + randrange(0, 5)\n",
    "\n",
    "\n",
    "def mf():\n",
    "    return 100 + randrange(0, 5)\n",
    "\n",
    "\n",
    "def double_kick():\n",
    "    beat = 1\n",
    "    while session.time() < SESSION_DURATION:\n",
    "        if beat % 4 == 1:\n",
    "            velocity = fff()\n",
    "        else:\n",
    "            velocity = mf()\n",
    "        drums.play_note(KICK_CODE, velocity, 0.125)\n",
    "        beat += 1\n",
    "\n",
    "\n",
    "def snare():\n",
    "    beat = 1\n",
    "    while session.time() < SESSION_DURATION:\n",
    "        if beat % 8 == 0:\n",
    "            wait(0.50)\n",
    "            drums.play_note(SNARE_CODE, mf(), 0.1, blocking=False)\n",
    "            wait(0.25)\n",
    "            drums.play_note(SNARE_CODE, fff(), 0.1, blocking=False)\n",
    "            wait(0.125)\n",
    "            drums.play_note(SNARE_CODE, mf(), 0.1, blocking=False)\n",
    "            wait(0.125)\n",
    "        else:\n",
    "            wait(0.5)\n",
    "            drums.play_note(SNARE_CODE, mf(), 0.1, blocking=False)\n",
    "            wait(0.5)\n",
    "        beat += 1\n",
    "\n",
    "\n",
    "def rest():\n",
    "    beat = 1\n",
    "    while session.time() < SESSION_DURATION:\n",
    "        if beat % 4 == 0:\n",
    "            kick_velocity = 1\n",
    "            snare_velocity = 0.8\n",
    "        else:\n",
    "            kick_velocity = 0.5\n",
    "            snare_velocity = 0.5\n",
    "\n",
    "        if beat % 4 == 1:\n",
    "            drums.play_note(CYMBAL_CODE, fff(), 0.1, blocking=False)\n",
    "\n",
    "        drums.play_note(HIHAT_CODE, mf(), 0.1, blocking=False)\n",
    "        wait(0.5)\n",
    "        drums.play_note(HIHAT_CODE, mf(), 0.1, blocking=False)\n",
    "        wait(0.5)\n",
    "        beat += 1\n",
    "\n",
    "\n",
    "session.fork(double_kick)\n",
    "session.fork(snare)\n",
    "session.fork(rest)"
   ]
  }
 ],
 "metadata": {
  "kernelspec": {
   "display_name": "Python 3.9.16 ('default')",
   "language": "python",
   "name": "python3"
  },
  "language_info": {
   "codemirror_mode": {
    "name": "ipython",
    "version": 3
   },
   "file_extension": ".py",
   "mimetype": "text/x-python",
   "name": "python",
   "nbconvert_exporter": "python",
   "pygments_lexer": "ipython3",
   "version": "3.10.12"
  },
  "orig_nbformat": 4,
  "vscode": {
   "interpreter": {
    "hash": "b19c504e0abe9af0b80e78d873495a79ef781516362c519732adc3cb489b6869"
   }
  }
 },
 "nbformat": 4,
 "nbformat_minor": 2
}
