{
 "cells": [
  {
   "cell_type": "code",
   "execution_count": 1,
   "metadata": {},
   "outputs": [],
   "source": [
    "from pythonosc import udp_client\n",
    "from itertools import chain\n",
    "import numpy as np\n",
    "from json import loads\n",
    "from utils.supercollider import SuperCollider"
   ]
  },
  {
   "cell_type": "code",
   "execution_count": 6,
   "metadata": {},
   "outputs": [
    {
     "name": "stdout",
     "output_type": "stream",
     "text": [
      "[65, 0.3333333333333333, 50, 2, 0, 2, 4, 7, 5, 5, 9, 7, 7, 12, 11, 12, 7, 4, 0, 2, 4, 5, 7, 9, 7, 5, 4, 2, 4, 0, -1, 0, 2, -5, -1, 2, 5, 4, 2, 4, 0, 2, 4, 7, 5, 5, 9, 7, 7, 12, 11, 12, 7, 4, 0, 2, 4, 5, 7, 5, 4, 2, 0, -5, 0, -1, 0, 4, 7, 12, 7, 4]\n",
      "Tempo:  65\n",
      "Speed:  0.3333333333333333\n",
      "Root:   50\n",
      "Repeat: 2\n",
      "Size:   68\n"
     ]
    }
   ],
   "source": [
    "supercollider = SuperCollider(\"../.scd_specs\", \"192.168.1.151\")\n",
    "\n",
    "# fmt: off\n",
    "# JS Bach, BWV 147 No.10 - Jesu, Joy of Man's Desiring\n",
    "bach_bwv_147_10 = np.array( [\n",
    "        [ 0, 2, 4, 7, 5, 5, 9, 7, 7, 12, 11, 12, 7, 4, 0, 2, 4, ],\n",
    "        [ 5, 7, 9, 7, 5, 4, 2, 4, 0, -1, 0, 2, -5, -1, 2, 5, 4, 2, 4, ],\n",
    "        [ 0, 2, 4, 7, 5, 5, 9, 7, 7, 12, 11, 12, 7, 4, ],\n",
    "        [ 0, 2, 4, 5, 7, 5, 4, 2, 0, -5, 0, -1, 0, 4, 7, 12, 7, 4, ],\n",
    "    ],\n",
    "    dtype=object,\n",
    ")\n",
    "# fmt: on\n",
    "\n",
    "sequences = {\n",
    "    \"bach\": np.hstack(bach_bwv_147_10).tolist(),\n",
    "    \"arpeggio\": [0, 4, 7, 12, 7, 4],\n",
    "    \"none\": []\n",
    "}\n",
    "\n",
    "supercollider.send_melody(\n",
    "    tempo=65,\n",
    "    speed=1 / 3,\n",
    "    root=50,\n",
    "    repeat=2,\n",
    "    sequence=sequences[\"bach\"],\n",
    ")"
   ]
  }
 ],
 "metadata": {
  "kernelspec": {
   "display_name": "Python 3.9.16 ('default')",
   "language": "python",
   "name": "python3"
  },
  "language_info": {
   "codemirror_mode": {
    "name": "ipython",
    "version": 3
   },
   "file_extension": ".py",
   "mimetype": "text/x-python",
   "name": "python",
   "nbconvert_exporter": "python",
   "pygments_lexer": "ipython3",
   "version": "3.11.6"
  },
  "orig_nbformat": 4,
  "vscode": {
   "interpreter": {
    "hash": "b19c504e0abe9af0b80e78d873495a79ef781516362c519732adc3cb489b6869"
   }
  }
 },
 "nbformat": 4,
 "nbformat_minor": 2
}
