{
 "cells": [
  {
   "cell_type": "code",
   "execution_count": 1,
   "metadata": {},
   "outputs": [
    {
     "name": "stderr",
     "output_type": "stream",
     "text": [
      "WARNING:root:Installing lilypond template file at /home/default/.local/share/SCAMP/scamp_lilypond_template.ly. (This is normal on first import.)\n",
      "WARNING:root:Playback settings not found; generating defaults. (This is normal on first import.)\n",
      "WARNING:root:Quantization settings not found; generating defaults. (This is normal on first import.)\n",
      "WARNING:root:Engraving settings not found; generating defaults. (This is normal on first import.)\n",
      "ALSA lib conf.c:4005:(snd_config_hooks_call) Cannot open shared library libasound_module_conf_pulse.so (/opt/conda/envs/default/lib/alsa-lib/libasound_module_conf_pulse.so: cannot open shared object file: No such file or directory)\n",
      "ALSA lib pcm.c:2666:(snd_pcm_open_noupdate) Unknown PCM default\n",
      "fluidsynth: error: Failed to open the \"default\" audio device\n",
      "ALSA lib seq_hw.c:466:(snd_seq_hw_open) open /dev/snd/seq failed: No such file or directory\n",
      "fluidsynth: error: Error opening ALSA sequencer\n",
      "fluidsynth: error: Couldn't find the requested audio driver 'coreaudio'.\n",
      "fluidsynth: This build of fluidsynth supports the following audio drivers: alsa, file, jack, oss, pulseaudio, sdl2\n",
      "ALSA lib seq_hw.c:466:(snd_seq_hw_open) open /dev/snd/seq failed: No such file or directory\n",
      "fluidsynth: error: Error opening ALSA sequencer\n",
      "fluidsynth: error: Couldn't find the requested audio driver 'dsound'.\n",
      "fluidsynth: This build of fluidsynth supports the following audio drivers: alsa, file, jack, oss, pulseaudio, sdl2\n",
      "ALSA lib seq_hw.c:466:(snd_seq_hw_open) open /dev/snd/seq failed: No such file or directory\n",
      "fluidsynth: error: Error opening ALSA sequencer\n",
      "fluidsynth: error: Couldn't find the requested audio driver 'Direct Sound'.\n",
      "fluidsynth: This build of fluidsynth supports the following audio drivers: alsa, file, jack, oss, pulseaudio, sdl2\n",
      "ALSA lib seq_hw.c:466:(snd_seq_hw_open) open /dev/snd/seq failed: No such file or directory\n",
      "fluidsynth: error: Error opening ALSA sequencer\n",
      "fluidsynth: error: Device </dev/dsp> could not be opened for writing: No such file or directory\n",
      "ALSA lib seq_hw.c:466:(snd_seq_hw_open) open /dev/snd/seq failed: No such file or directory\n",
      "fluidsynth: error: Error opening ALSA sequencer\n",
      "shm_open() failed: No such file or directory\n",
      "fluidsynth: error: Failed to create PulseAudio connection, because pa_simple_new() failed with error: Protocol error\n",
      "ALSA lib seq_hw.c:466:(snd_seq_hw_open) open /dev/snd/seq failed: No such file or directory\n",
      "fluidsynth: error: Error opening ALSA sequencer\n",
      "Cannot connect to server socket err = No such file or directory\n",
      "Cannot connect to server request channel\n",
      "\n",
      "Usage: jackdmp [ --no-realtime OR -r ]\n",
      "               [ --realtime OR -R [ --realtime-priority OR -P priority ] ]\n",
      "      (the two previous arguments are mutually exclusive. The default is --realtime)\n",
      "               [ --name OR -n server-name ]\n",
      "               [ --timeout OR -t client-timeout-in-msecs ]\n",
      "               [ --loopback OR -L loopback-port-number ]\n",
      "               [ --port-max OR -p maximum-number-of-ports]\n",
      "               [ --slave-backend OR -X slave-backend-name ]\n",
      "               [ --internal-client OR -I internal-client-name ]\n",
      "               [ --internal-session-file OR -C internal-session-file ]\n",
      "               [ --verbose OR -v ]\n",
      "               [ --clocksource OR -c [ h(pet) | s(ystem) ]\n",
      "               [ --autoconnect OR -a <modechar>]\n",
      "                 where <modechar> is one of:\n",
      "                   ' ' - Don't restrict self connect requests (default)\n",
      "                   'E' - Fail self connect requests to external ports only\n",
      "                   'e' - Ignore self connect requests to external ports only\n",
      "                   'A' - Fail all self connect requests\n",
      "                   'a' - Ignore all self connect requests\n",
      "               [ --replace-registry ]\n",
      "               [ --silent OR -s ]\n",
      "               [ --sync OR -S ]\n",
      "               [ --temporary OR -T ]\n",
      "               [ --version OR -V ]\n",
      "         -d master-backend-name [ ... master-backend args ... ]\n",
      "       jackdmp -d master-backend-name --help\n",
      "             to display options for each master backend\n",
      "\n"
     ]
    },
    {
     "name": "stdout",
     "output_type": "stream",
     "text": [
      "Testing for working audio driver...\n",
      "jackdmp 1.9.22\n",
      "Copyright 2001-2005 Paul Davis and others.\n",
      "Copyright 2004-2016 Grame.\n",
      "Copyright 2016-2023 Filipe Coelho.\n",
      "jackdmp comes with ABSOLUTELY NO WARRANTY\n",
      "This is free software, and you are welcome to redistribute it\n",
      "under certain conditions; see the file COPYING for details\n"
     ]
    },
    {
     "name": "stderr",
     "output_type": "stream",
     "text": [
      "Cannot connect to server socket err = No such file or directory\n",
      "Cannot connect to server request channel\n",
      "Cannot connect to server socket err = No such file or directory\n",
      "Cannot connect to server request channel\n",
      "Cannot connect to server socket err = No such file or directory\n",
      "Cannot connect to server request channel\n",
      "Cannot connect to server socket err = No such file or directory\n",
      "Cannot connect to server request channel\n",
      "Cannot connect to server socket err = No such file or directory\n",
      "Cannot connect to server request channel\n",
      "jack server is not running or cannot be started\n",
      "JackShmReadWritePtr::~JackShmReadWritePtr - Init not done for -1, skipping unlock\n",
      "JackShmReadWritePtr::~JackShmReadWritePtr - Init not done for -1, skipping unlock\n",
      "fluidsynth: error: Failed to connect to Jack server.\n",
      "ALSA lib seq_hw.c:466:(snd_seq_hw_open) open /dev/snd/seq failed: No such file or directory\n",
      "fluidsynth: error: Error opening ALSA sequencer\n",
      "fluidsynth: error: Couldn't find the requested audio driver 'portaudio'.\n",
      "fluidsynth: This build of fluidsynth supports the following audio drivers: alsa, file, jack, oss, pulseaudio, sdl2\n",
      "ALSA lib seq_hw.c:466:(snd_seq_hw_open) open /dev/snd/seq failed: No such file or directory\n",
      "fluidsynth: error: Error opening ALSA sequencer\n",
      "fluidsynth: error: Couldn't find the requested audio driver 'sndmgr'.\n",
      "fluidsynth: This build of fluidsynth supports the following audio drivers: alsa, file, jack, oss, pulseaudio, sdl2\n",
      "ALSA lib seq_hw.c:466:(snd_seq_hw_open) open /dev/snd/seq failed: No such file or directory\n",
      "fluidsynth: error: Error opening ALSA sequencer\n",
      "WARNING:root:No working audio driver was found; synth output will not be available.\n",
      "WARNING:root:pynput was not found; mouse and keyboard input will not be available.\n"
     ]
    }
   ],
   "source": [
    "from scamp import test_run, Session, settings\n",
    "from config import ARTIFACTS_RELPATH\n",
    "from scamp_utils import set_default_scamp_settings\n",
    "\n",
    "set_default_scamp_settings()"
   ]
  },
  {
   "cell_type": "code",
   "execution_count": 42,
   "metadata": {},
   "outputs": [],
   "source": [
    "supercollider_session = Session()\n",
    "phased_osc = supercollider_session.new_osc_part(\n",
    "    \"phased\", port=57120, ip_address=\"supercollider\"\n",
    ")\n",
    "mono_osc = supercollider_session.new_osc_part(\n",
    "    \"mono\", port=57120, ip_address=\"supercollider\"\n",
    ")\n",
    "\n",
    "chord = [60, 64, 67]\n",
    "\n",
    "for pitch in chord:\n",
    "    phased_osc.play_note(\n",
    "        pitch, 0.7, 1, {\"param_tremoloFreq\": 3}\n",
    "    )\n",
    "for pitch in chord:\n",
    "    mono_osc.play_note(\n",
    "        pitch, 0.7, 1, {\"param_freqVariation\": 0.05}\n",
    "    )"
   ]
  }
 ],
 "metadata": {
  "kernelspec": {
   "display_name": "Python 3.9.16 ('default')",
   "language": "python",
   "name": "python3"
  },
  "language_info": {
   "codemirror_mode": {
    "name": "ipython",
    "version": 3
   },
   "file_extension": ".py",
   "mimetype": "text/x-python",
   "name": "python",
   "nbconvert_exporter": "python",
   "pygments_lexer": "ipython3",
   "version": "3.10.12"
  },
  "orig_nbformat": 4,
  "vscode": {
   "interpreter": {
    "hash": "b19c504e0abe9af0b80e78d873495a79ef781516362c519732adc3cb489b6869"
   }
  }
 },
 "nbformat": 4,
 "nbformat_minor": 2
}
