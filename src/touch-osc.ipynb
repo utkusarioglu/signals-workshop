{
 "cells": [
  {
   "cell_type": "code",
   "execution_count": 12,
   "metadata": {},
   "outputs": [
    {
     "ename": "ModuleNotFoundError",
     "evalue": "No module named 'scamp_extensions'",
     "output_type": "error",
     "traceback": [
      "\u001b[0;31m---------------------------------------------------------------------------\u001b[0m",
      "\u001b[0;31mModuleNotFoundError\u001b[0m                       Traceback (most recent call last)",
      "Cell \u001b[0;32mIn[12], line 2\u001b[0m\n\u001b[1;32m      1\u001b[0m \u001b[38;5;28;01mfrom\u001b[39;00m \u001b[38;5;21;01mscamp\u001b[39;00m \u001b[38;5;28;01mimport\u001b[39;00m test_run, Session, wait\n\u001b[0;32m----> 2\u001b[0m \u001b[38;5;28;01mfrom\u001b[39;00m \u001b[38;5;21;01mscamp_extensions\u001b[39;00m \u001b[38;5;28;01mimport\u001b[39;00m Scale\n\u001b[1;32m      3\u001b[0m \u001b[38;5;28;01mimport\u001b[39;00m \u001b[38;5;21;01mrandom\u001b[39;00m\n\u001b[1;32m      4\u001b[0m \u001b[38;5;28;01mimport\u001b[39;00m \u001b[38;5;21;01mtime\u001b[39;00m\n",
      "\u001b[0;31mModuleNotFoundError\u001b[0m: No module named 'scamp_extensions'"
     ]
    }
   ],
   "source": [
    "from scamp import test_run, Session, wait\n",
    "from scamp_extensions import Scale\n",
    "import random\n",
    "import time\n",
    "from pythonosc import udp_client\n",
    "from config import ARTIFACTS_RELPATH\n",
    "from scamp_utils import set_default_scamp_settings\n",
    "from connection.touchosc import TOUCHOSC_CONNECTION_PROPS, test_run\n",
    "from random import random, choice\n",
    "\n",
    "set_default_scamp_settings()"
   ]
  },
  {
   "cell_type": "markdown",
   "metadata": {},
   "source": [
    "## Using Scamp's osc methods"
   ]
  },
  {
   "cell_type": "code",
   "execution_count": 43,
   "metadata": {},
   "outputs": [],
   "source": [
    "session = Session().run_as_server()\n",
    "piano = session.new_osc_part(**TOUCHOSC_CONNECTION_PROPS)\n"
   ]
  },
  {
   "cell_type": "code",
   "execution_count": 32,
   "metadata": {},
   "outputs": [
    {
     "name": "stdout",
     "output_type": "stream",
     "text": [
      "Running sequence:  [50, 53, 56, 59, 62, 65, 68, 70, 67, 64, 61, 58, 55, 52]\n",
      "Repeat:  0\n",
      "Repeat:  1\n",
      "Repeat:  2\n",
      "Repeat:  3\n",
      "Repeat:  4\n"
     ]
    }
   ],
   "source": [
    "test_run(session, piano, 50, 70, 3, [0, 4], 5)"
   ]
  },
  {
   "cell_type": "markdown",
   "metadata": {},
   "source": [
    "## Scamp tutorial series\n",
    "\n",
    "This section starts the scamp tutorial practice once again"
   ]
  },
  {
   "cell_type": "code",
   "execution_count": 39,
   "metadata": {},
   "outputs": [],
   "source": [
    "session.tempo = 30\n",
    "for pitch in (48, 53, 67):\n",
    "    piano.play_note(pitch, 127, 1.0, blocking=False)\n",
    "    wait(1.0)"
   ]
  },
  {
   "cell_type": "code",
   "execution_count": 10,
   "metadata": {},
   "outputs": [],
   "source": [
    "session = Session().run_as_server()\n",
    "piano = session.new_osc_part(**TOUCHOSC_CONNECTION_PROPS)\n",
    "\n",
    "interval = 1\n",
    "piano_pitch = 48\n",
    "forte_piano = 127\n",
    "diminuendo = 50\n",
    "low = 36\n",
    "high = 60\n",
    "\n",
    "note_choices = [0.1, 0.2, 0.5, 1, 1.5, 2, 3]\n",
    "rest_choices = [0.1, 0.2, 0.5, 1]\n",
    "bar_lines = []\n",
    "\n",
    "session.tempo = 120\n",
    "while session.time() < 30:\n",
    "    if random() < 0.7:\n",
    "        piano.play_note(piano_pitch, forte_piano, choice(note_choices))\n",
    "        wait(choice(rest_choices))\n",
    "    else:\n",
    "        bar_lines.append(session.time())\n",
    "        piano.play_note(piano_pitch, diminuendo,choice(note_choices))\n",
    "        wait(choice(rest_choices))\n",
    "        \n",
    "    piano_pitch = (piano_pitch + interval - low) % (high - low) + low\n",
    "    interval += 1\n"
   ]
  }
 ],
 "metadata": {
  "kernelspec": {
   "display_name": "Python 3.9.16 ('default')",
   "language": "python",
   "name": "python3"
  },
  "language_info": {
   "codemirror_mode": {
    "name": "ipython",
    "version": 3
   },
   "file_extension": ".py",
   "mimetype": "text/x-python",
   "name": "python",
   "nbconvert_exporter": "python",
   "pygments_lexer": "ipython3",
   "version": "3.10.12"
  },
  "orig_nbformat": 4,
  "vscode": {
   "interpreter": {
    "hash": "b19c504e0abe9af0b80e78d873495a79ef781516362c519732adc3cb489b6869"
   }
  }
 },
 "nbformat": 4,
 "nbformat_minor": 2
}
