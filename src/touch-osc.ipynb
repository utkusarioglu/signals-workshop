{
 "cells": [
  {
   "cell_type": "code",
   "execution_count": 3,
   "metadata": {},
   "outputs": [
    {
     "name": "stdout",
     "output_type": "stream",
     "text": [
      "Testing for working audio driver...\n",
      "jackdmp 1.9.22\n",
      "Copyright 2001-2005 Paul Davis and others.\n",
      "Copyright 2004-2016 Grame.\n",
      "Copyright 2016-2023 Filipe Coelho.\n",
      "jackdmp comes with ABSOLUTELY NO WARRANTY\n",
      "This is free software, and you are welcome to redistribute it\n",
      "under certain conditions; see the file COPYING for details\n"
     ]
    },
    {
     "name": "stderr",
     "output_type": "stream",
     "text": [
      "ALSA lib conf.c:4005:(snd_config_hooks_call) Cannot open shared library libasound_module_conf_pulse.so (/opt/conda/envs/default/lib/alsa-lib/libasound_module_conf_pulse.so: cannot open shared object file: No such file or directory)\n",
      "ALSA lib pcm.c:2666:(snd_pcm_open_noupdate) Unknown PCM default\n",
      "fluidsynth: error: Failed to open the \"default\" audio device\n",
      "ALSA lib seq_hw.c:466:(snd_seq_hw_open) open /dev/snd/seq failed: No such file or directory\n",
      "fluidsynth: error: Error opening ALSA sequencer\n",
      "fluidsynth: error: Couldn't find the requested audio driver 'coreaudio'.\n",
      "fluidsynth: This build of fluidsynth supports the following audio drivers: alsa, file, jack, oss, pulseaudio, sdl2\n",
      "ALSA lib seq_hw.c:466:(snd_seq_hw_open) open /dev/snd/seq failed: No such file or directory\n",
      "fluidsynth: error: Error opening ALSA sequencer\n",
      "fluidsynth: error: Couldn't find the requested audio driver 'dsound'.\n",
      "fluidsynth: This build of fluidsynth supports the following audio drivers: alsa, file, jack, oss, pulseaudio, sdl2\n",
      "ALSA lib seq_hw.c:466:(snd_seq_hw_open) open /dev/snd/seq failed: No such file or directory\n",
      "fluidsynth: error: Error opening ALSA sequencer\n",
      "fluidsynth: error: Couldn't find the requested audio driver 'Direct Sound'.\n",
      "fluidsynth: This build of fluidsynth supports the following audio drivers: alsa, file, jack, oss, pulseaudio, sdl2\n",
      "ALSA lib seq_hw.c:466:(snd_seq_hw_open) open /dev/snd/seq failed: No such file or directory\n",
      "fluidsynth: error: Error opening ALSA sequencer\n",
      "fluidsynth: error: Device </dev/dsp> could not be opened for writing: No such file or directory\n",
      "ALSA lib seq_hw.c:466:(snd_seq_hw_open) open /dev/snd/seq failed: No such file or directory\n",
      "fluidsynth: error: Error opening ALSA sequencer\n",
      "shm_open() failed: No such file or directory\n",
      "fluidsynth: error: Failed to create PulseAudio connection, because pa_simple_new() failed with error: Protocol error\n",
      "ALSA lib seq_hw.c:466:(snd_seq_hw_open) open /dev/snd/seq failed: No such file or directory\n",
      "fluidsynth: error: Error opening ALSA sequencer\n",
      "Cannot connect to server socket err = No such file or directory\n",
      "Cannot connect to server request channel\n",
      "\n",
      "Usage: jackdmp [ --no-realtime OR -r ]\n",
      "               [ --realtime OR -R [ --realtime-priority OR -P priority ] ]\n",
      "      (the two previous arguments are mutually exclusive. The default is --realtime)\n",
      "               [ --name OR -n server-name ]\n",
      "               [ --timeout OR -t client-timeout-in-msecs ]\n",
      "               [ --loopback OR -L loopback-port-number ]\n",
      "               [ --port-max OR -p maximum-number-of-ports]\n",
      "               [ --slave-backend OR -X slave-backend-name ]\n",
      "               [ --internal-client OR -I internal-client-name ]\n",
      "               [ --internal-session-file OR -C internal-session-file ]\n",
      "               [ --verbose OR -v ]\n",
      "               [ --clocksource OR -c [ h(pet) | s(ystem) ]\n",
      "               [ --autoconnect OR -a <modechar>]\n",
      "                 where <modechar> is one of:\n",
      "                   ' ' - Don't restrict self connect requests (default)\n",
      "                   'E' - Fail self connect requests to external ports only\n",
      "                   'e' - Ignore self connect requests to external ports only\n",
      "                   'A' - Fail all self connect requests\n",
      "                   'a' - Ignore all self connect requests\n",
      "               [ --replace-registry ]\n",
      "               [ --silent OR -s ]\n",
      "               [ --sync OR -S ]\n",
      "               [ --temporary OR -T ]\n",
      "               [ --version OR -V ]\n",
      "         -d master-backend-name [ ... master-backend args ... ]\n",
      "       jackdmp -d master-backend-name --help\n",
      "             to display options for each master backend\n",
      "\n",
      "Cannot connect to server socket err = No such file or directory\n",
      "Cannot connect to server request channel\n",
      "Cannot connect to server socket err = No such file or directory\n",
      "Cannot connect to server request channel\n",
      "Cannot connect to server socket err = No such file or directory\n",
      "Cannot connect to server request channel\n",
      "Cannot connect to server socket err = No such file or directory\n",
      "Cannot connect to server request channel\n",
      "Cannot connect to server socket err = No such file or directory\n",
      "Cannot connect to server request channel\n",
      "jack server is not running or cannot be started\n",
      "JackShmReadWritePtr::~JackShmReadWritePtr - Init not done for -1, skipping unlock\n",
      "JackShmReadWritePtr::~JackShmReadWritePtr - Init not done for -1, skipping unlock\n",
      "fluidsynth: error: Failed to connect to Jack server.\n",
      "ALSA lib seq_hw.c:466:(snd_seq_hw_open) open /dev/snd/seq failed: No such file or directory\n",
      "fluidsynth: error: Error opening ALSA sequencer\n",
      "fluidsynth: error: Couldn't find the requested audio driver 'portaudio'.\n",
      "fluidsynth: This build of fluidsynth supports the following audio drivers: alsa, file, jack, oss, pulseaudio, sdl2\n",
      "ALSA lib seq_hw.c:466:(snd_seq_hw_open) open /dev/snd/seq failed: No such file or directory\n",
      "fluidsynth: error: Error opening ALSA sequencer\n",
      "fluidsynth: error: Couldn't find the requested audio driver 'sndmgr'.\n",
      "fluidsynth: This build of fluidsynth supports the following audio drivers: alsa, file, jack, oss, pulseaudio, sdl2\n",
      "ALSA lib seq_hw.c:466:(snd_seq_hw_open) open /dev/snd/seq failed: No such file or directory\n",
      "fluidsynth: error: Error opening ALSA sequencer\n",
      "WARNING:root:No working audio driver was found; synth output will not be available.\n",
      "WARNING:root:pynput was not found; mouse and keyboard input will not be available.\n"
     ]
    }
   ],
   "source": [
    "from scamp import test_run, Session, wait\n",
    "import random\n",
    "import time\n",
    "from pythonosc import udp_client\n",
    "from src.config import ARTIFACTS_RELPATH\n",
    "from src.scamp_utils import set_default_scamp_settings\n",
    "\n",
    "set_default_scamp_settings()"
   ]
  },
  {
   "cell_type": "markdown",
   "metadata": {},
   "source": [
    "## Using Scamp's osc methods"
   ]
  },
  {
   "cell_type": "code",
   "execution_count": 53,
   "metadata": {},
   "outputs": [],
   "source": [
    "def start_session():\n",
    "    touch_session = Session()\n",
    "    touch_osc_part = touch_session.new_osc_part(\n",
    "        name=\"touch_osc\",\n",
    "        ip_address=\"touch_osc\",\n",
    "        port=9000,\n",
    "    )\n",
    "    return touch_session, touch_osc_part\n",
    "\n",
    "\n",
    "def test_run(\n",
    "    touch_osc_session, touch_osc_part, lowest, highest, step, intervals, repeat_count = 1\n",
    "):\n",
    "    touch_osc_session.tempo = 40\n",
    "    touch_osc_session.start_transcribing()\n",
    "    sequence = [\n",
    "        *range(lowest, highest, step),\n",
    "        *range(highest, lowest, -1 * step),\n",
    "    ]\n",
    "    print(\"Running sequence: \", sequence)\n",
    "    for repeat in range(repeat_count):\n",
    "        print(\"Repeat: \", repeat)\n",
    "        for pitch in sequence:\n",
    "            length = 0.1\n",
    "            velocity = 110\n",
    "            for interval in intervals:\n",
    "                touch_osc_part.play_note(\n",
    "                    pitch + interval, velocity, length, blocking=False\n",
    "                )\n",
    "            wait(length)\n",
    "\n",
    "    tr = touch_osc_session.stop_transcribing()\n",
    "    tr.save_to_json(f\"{ARTIFACTS_RELPATH}/touch_osc.json\")"
   ]
  },
  {
   "cell_type": "code",
   "execution_count": 54,
   "metadata": {},
   "outputs": [
    {
     "name": "stdout",
     "output_type": "stream",
     "text": [
      "Running sequence:  [50, 53, 56, 59, 62, 65, 68, 70, 67, 64, 61, 58, 55, 52]\n",
      "Repeat:  0\n",
      "Repeat:  1\n",
      "Repeat:  2\n",
      "Repeat:  3\n",
      "Repeat:  4\n"
     ]
    }
   ],
   "source": [
    "touch_osc_session, touch_osc_part = start_session()\n",
    "\n",
    "test_run(touch_osc_session, touch_osc_part, 50, 70, 3, [0, 4], 5)"
   ]
  },
  {
   "cell_type": "markdown",
   "metadata": {},
   "source": [
    "## Using python osc\n",
    "\n",
    "Scamps's osc feature seems to have been developed with only ScampUtils of supercollider in mind and does not communicate directly with touchosc's natural way of doing things. \n",
    "\n",
    "Until a proper script in lua (or scamp) is developed, python-osc helps with experimentation.\n"
   ]
  },
  {
   "cell_type": "code",
   "execution_count": 10,
   "metadata": {},
   "outputs": [],
   "source": [
    "client = udp_client.SimpleUDPClient(\"touch_osc\", 9000)"
   ]
  },
  {
   "cell_type": "code",
   "execution_count": 11,
   "metadata": {},
   "outputs": [
    {
     "name": "stdout",
     "output_type": "stream",
     "text": [
      "[50, 52, 54, 56, 58, 58, 56, 54, 52, 50]\n"
     ]
    }
   ],
   "source": [
    "lowest = 50\n",
    "highest = 60\n",
    "sequence = [*range(lowest, highest, 2), *reversed(range(lowest, highest, 2))]\n",
    "print(sequence)\n",
    "for _ in range(1):\n",
    "    for x in sequence:\n",
    "        address = \"/touch_osc\"\n",
    "        # pitch = x * 2 + 50\n",
    "        pitches = [\n",
    "            # x * 2 + 50 + 2,\n",
    "            x\n",
    "            # x * 2 + 40,\n",
    "        ]\n",
    "        # velocity = x * 10\n",
    "        for pitch in pitches:\n",
    "            client.send_message(f\"{address}/start_note\", [pitch, 127])\n",
    "        time.sleep(0.3)\n",
    "        for pitch in pitches:\n",
    "            client.send_message(f\"{address}/end_note\", [pitch, 127])\n",
    "        time.sleep(0.5)"
   ]
  }
 ],
 "metadata": {
  "kernelspec": {
   "display_name": "Python 3.9.16 ('default')",
   "language": "python",
   "name": "python3"
  },
  "language_info": {
   "codemirror_mode": {
    "name": "ipython",
    "version": 3
   },
   "file_extension": ".py",
   "mimetype": "text/x-python",
   "name": "python",
   "nbconvert_exporter": "python",
   "pygments_lexer": "ipython3",
   "version": "3.10.12"
  },
  "orig_nbformat": 4,
  "vscode": {
   "interpreter": {
    "hash": "b19c504e0abe9af0b80e78d873495a79ef781516362c519732adc3cb489b6869"
   }
  }
 },
 "nbformat": 4,
 "nbformat_minor": 2
}
