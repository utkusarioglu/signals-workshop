{
 "cells": [
  {
   "cell_type": "code",
   "execution_count": 5,
   "metadata": {},
   "outputs": [],
   "source": [
    "from scamp import test_run, Session\n",
    "import random\n",
    "import time\n",
    "from pythonosc import udp_client\n",
    "from src.config import ARTIFACTS_RELPATH\n",
    "from src.scamp_utils import set_default_scamp_settings\n",
    "\n",
    "set_default_scamp_settings()"
   ]
  },
  {
   "cell_type": "markdown",
   "metadata": {},
   "source": [
    "## Using Scamp's osc methods"
   ]
  },
  {
   "cell_type": "code",
   "execution_count": 2,
   "metadata": {},
   "outputs": [],
   "source": [
    "touch_session = Session()\n",
    "touch_osc = touch_session.new_osc_part(\n",
    "    name=\"touch_osc\", \n",
    "    ip_address=\"supercollider\",\n",
    "    port=9000, \n",
    ")\n"
   ]
  },
  {
   "cell_type": "code",
   "execution_count": 4,
   "metadata": {},
   "outputs": [
    {
     "name": "stderr",
     "output_type": "stream",
     "text": [
      "WARNING:root:Clock MASTER (beat=1.5) is running noticeably behind real time (10.01355 s) on a wait call of 0.75 s; probably processing is too heavy.\n"
     ]
    },
    {
     "name": "stdout",
     "output_type": "stream",
     "text": [
      "60\n",
      "62\n",
      "67\n"
     ]
    }
   ],
   "source": [
    "touch_session.tempo = 40\n",
    "touch_session.start_transcribing()\n",
    "\n",
    "for pitch in [60, 62, 67]:\n",
    "    print(pitch)\n",
    "    volume = 127 - pitch\n",
    "    touch_osc.play_note(pitch, volume, 0.5)\n",
    "\n",
    "tr = touch_session.stop_transcribing()\n",
    "tr.save_to_json(f\"{ARTIFACTS_RELPATH}/touch_osc.json\")"
   ]
  },
  {
   "cell_type": "markdown",
   "metadata": {},
   "source": [
    "## Using python osc\n",
    "\n",
    "Scamps's osc feature seems to have been developed with only ScampUtils of supercollider in mind and does not communicate directly with touchosc's natural way of doing things. \n",
    "\n",
    "Until a proper script in lua (or scamp) is developed, python-osc helps with experimentation.\n"
   ]
  },
  {
   "cell_type": "code",
   "execution_count": 44,
   "metadata": {},
   "outputs": [],
   "source": [
    "client = udp_client.SimpleUDPClient(\"touch_osc\", 9000)"
   ]
  },
  {
   "cell_type": "code",
   "execution_count": 46,
   "metadata": {},
   "outputs": [],
   "source": [
    "for _ in range(1):\n",
    "    for x in range(10):\n",
    "        address = \"/touch_osc\"\n",
    "        pitch = x * 2 + 50\n",
    "        pitches = [\n",
    "            # x * 2 + 50 + 2,\n",
    "            x * 2 + 40,\n",
    "        ]\n",
    "        # velocity = x * 10\n",
    "        for pitch in pitches:\n",
    "            client.send_message(f\"{address}/start_note\", [pitch, 127])\n",
    "        time.sleep(0.1)\n",
    "        for pitch in pitches:\n",
    "            client.send_message(f\"{address}/end_note\", [pitch, 127])\n",
    "        # time.sleep(0.5)"
   ]
  }
 ],
 "metadata": {
  "kernelspec": {
   "display_name": "Python 3.9.16 ('default')",
   "language": "python",
   "name": "python3"
  },
  "language_info": {
   "codemirror_mode": {
    "name": "ipython",
    "version": 3
   },
   "file_extension": ".py",
   "mimetype": "text/x-python",
   "name": "python",
   "nbconvert_exporter": "python",
   "pygments_lexer": "ipython3",
   "version": "3.10.12"
  },
  "orig_nbformat": 4,
  "vscode": {
   "interpreter": {
    "hash": "b19c504e0abe9af0b80e78d873495a79ef781516362c519732adc3cb489b6869"
   }
  }
 },
 "nbformat": 4,
 "nbformat_minor": 2
}
