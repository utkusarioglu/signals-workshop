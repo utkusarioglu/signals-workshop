{
 "cells": [
  {
   "cell_type": "code",
   "execution_count": 50,
   "metadata": {},
   "outputs": [],
   "source": [
    "from scamp import test_run, Session, wait\n",
    "import random\n",
    "import time\n",
    "from pythonosc import udp_client\n",
    "from src.config import ARTIFACTS_RELPATH\n",
    "from src.scamp_utils import set_default_scamp_settings\n",
    "\n",
    "set_default_scamp_settings()"
   ]
  },
  {
   "cell_type": "markdown",
   "metadata": {},
   "source": [
    "## Using Scamp's osc methods"
   ]
  },
  {
   "cell_type": "code",
   "execution_count": 101,
   "metadata": {},
   "outputs": [],
   "source": [
    "def start_session():\n",
    "    touch_session = Session()\n",
    "    touch_osc_part = touch_session.new_osc_part(\n",
    "        name=\"touch_osc\",\n",
    "        ip_address=\"touch_osc\",\n",
    "        port=9000,\n",
    "    )\n",
    "    return touch_session, touch_osc_part\n",
    "\n",
    "\n",
    "def test_run(\n",
    "    touch_osc_session, touch_osc_part, lowest, highest, step, intervals, repeat_count = 1\n",
    "):\n",
    "    touch_osc_session.tempo = 40\n",
    "    touch_osc_session.start_transcribing()\n",
    "    sequence = [\n",
    "        *range(lowest, highest, step),\n",
    "        *range(highest, lowest, -1 * step),\n",
    "    ]\n",
    "    print(\"Running sequence: \", sequence)\n",
    "    for repeat in range(repeat_count):\n",
    "        print(\"Repeat: \", repeat)\n",
    "        for pitch in sequence:\n",
    "            length = 0.1\n",
    "            velocity = pitch + 30\n",
    "            for interval in intervals:\n",
    "                touch_osc_part.play_note(\n",
    "                    pitch + interval, velocity, length, blocking=False\n",
    "                )\n",
    "            wait(length)\n",
    "\n",
    "    tr = touch_osc_session.stop_transcribing()\n",
    "    tr.save_to_json(f\"{ARTIFACTS_RELPATH}/touch_osc.json\")"
   ]
  },
  {
   "cell_type": "code",
   "execution_count": 102,
   "metadata": {},
   "outputs": [
    {
     "name": "stdout",
     "output_type": "stream",
     "text": [
      "Running sequence:  [50, 52, 54, 56, 58, 60, 62, 64, 66, 68, 70, 72, 74, 76, 78, 80, 78, 76, 74, 72, 70, 68, 66, 64, 62, 60, 58, 56, 54, 52]\n",
      "Repeat:  0\n",
      "Repeat:  1\n",
      "Repeat:  2\n",
      "Repeat:  3\n",
      "Repeat:  4\n",
      "Repeat:  5\n"
     ]
    },
    {
     "ename": "KeyboardInterrupt",
     "evalue": "",
     "output_type": "error",
     "traceback": [
      "\u001b[0;31m---------------------------------------------------------------------------\u001b[0m",
      "\u001b[0;31mKeyboardInterrupt\u001b[0m                         Traceback (most recent call last)",
      "Cell \u001b[0;32mIn[102], line 3\u001b[0m\n\u001b[1;32m      1\u001b[0m touch_osc_session, touch_osc_part \u001b[38;5;241m=\u001b[39m start_session()\n\u001b[0;32m----> 3\u001b[0m \u001b[43mtest_run\u001b[49m\u001b[43m(\u001b[49m\u001b[43mtouch_osc_session\u001b[49m\u001b[43m,\u001b[49m\u001b[43m \u001b[49m\u001b[43mtouch_osc_part\u001b[49m\u001b[43m,\u001b[49m\u001b[43m \u001b[49m\u001b[38;5;241;43m50\u001b[39;49m\u001b[43m,\u001b[49m\u001b[43m \u001b[49m\u001b[38;5;241;43m80\u001b[39;49m\u001b[43m,\u001b[49m\u001b[43m \u001b[49m\u001b[38;5;241;43m2\u001b[39;49m\u001b[43m,\u001b[49m\u001b[43m \u001b[49m\u001b[43m[\u001b[49m\u001b[38;5;241;43m0\u001b[39;49m\u001b[43m,\u001b[49m\u001b[43m \u001b[49m\u001b[38;5;241;43m4\u001b[39;49m\u001b[43m,\u001b[49m\u001b[43m \u001b[49m\u001b[38;5;241;43m7\u001b[39;49m\u001b[43m]\u001b[49m\u001b[43m,\u001b[49m\u001b[43m \u001b[49m\u001b[38;5;241;43m10\u001b[39;49m\u001b[43m)\u001b[49m\n",
      "Cell \u001b[0;32mIn[101], line 30\u001b[0m, in \u001b[0;36mtest_run\u001b[0;34m(touch_osc_session, touch_osc_part, lowest, highest, step, intervals, repeat_count)\u001b[0m\n\u001b[1;32m     26\u001b[0m         \u001b[38;5;28;01mfor\u001b[39;00m interval \u001b[38;5;129;01min\u001b[39;00m intervals:\n\u001b[1;32m     27\u001b[0m             touch_osc_part\u001b[38;5;241m.\u001b[39mplay_note(\n\u001b[1;32m     28\u001b[0m                 pitch \u001b[38;5;241m+\u001b[39m interval, velocity, length, blocking\u001b[38;5;241m=\u001b[39m\u001b[38;5;28;01mFalse\u001b[39;00m\n\u001b[1;32m     29\u001b[0m             )\n\u001b[0;32m---> 30\u001b[0m         \u001b[43mwait\u001b[49m\u001b[43m(\u001b[49m\u001b[43mlength\u001b[49m\u001b[43m)\u001b[49m\n\u001b[1;32m     32\u001b[0m tr \u001b[38;5;241m=\u001b[39m touch_osc_session\u001b[38;5;241m.\u001b[39mstop_transcribing()\n\u001b[1;32m     33\u001b[0m tr\u001b[38;5;241m.\u001b[39msave_to_json(\u001b[38;5;124mf\u001b[39m\u001b[38;5;124m\"\u001b[39m\u001b[38;5;132;01m{\u001b[39;00mARTIFACTS_RELPATH\u001b[38;5;132;01m}\u001b[39;00m\u001b[38;5;124m/touch_osc.json\u001b[39m\u001b[38;5;124m\"\u001b[39m)\n",
      "File \u001b[0;32m/opt/conda/envs/default/lib/python3.10/site-packages/clockblocks/utilities.py:87\u001b[0m, in \u001b[0;36mwait\u001b[0;34m(dt, units)\u001b[0m\n\u001b[1;32m     85\u001b[0m c \u001b[39m=\u001b[39m current_clock()\n\u001b[1;32m     86\u001b[0m \u001b[39mif\u001b[39;00m c \u001b[39mis\u001b[39;00m \u001b[39mnot\u001b[39;00m \u001b[39mNone\u001b[39;00m:\n\u001b[0;32m---> 87\u001b[0m     current_clock()\u001b[39m.\u001b[39;49mwait(dt, units\u001b[39m=\u001b[39;49munits)\n\u001b[1;32m     88\u001b[0m \u001b[39melse\u001b[39;00m:\n\u001b[1;32m     89\u001b[0m     time\u001b[39m.\u001b[39msleep(dt)\n",
      "File \u001b[0;32m/opt/conda/envs/default/lib/python3.10/site-packages/clockblocks/clock.py:1107\u001b[0m, in \u001b[0;36mClock.wait\u001b[0;34m(self, dt, units, sub_call)\u001b[0m\n\u001b[1;32m   1103\u001b[0m \u001b[39mtry\u001b[39;00m:\n\u001b[1;32m   1104\u001b[0m     \u001b[39m# while there are wake up calls left to do amongst the children, and those wake up calls\u001b[39;00m\n\u001b[1;32m   1105\u001b[0m     \u001b[39m# would take place before or exactly when we're done waiting here on the master clock\u001b[39;00m\n\u001b[1;32m   1106\u001b[0m     \u001b[39mwhile\u001b[39;00m \u001b[39mself\u001b[39m\u001b[39m.\u001b[39m_queue_has_wakeup_call(before_beat\u001b[39m=\u001b[39mend_beat):\n\u001b[0;32m-> 1107\u001b[0m         \u001b[39mself\u001b[39;49m\u001b[39m.\u001b[39;49m_handle_next_wakeup_call()\n\u001b[1;32m   1109\u001b[0m     \u001b[39m# if we exit the while loop, that means that there is no one in the queue (meaning no children),\u001b[39;00m\n\u001b[1;32m   1110\u001b[0m     \u001b[39m# or the first wake up call is scheduled for after this wait is to end. So we can safely wait.\u001b[39;00m\n\u001b[1;32m   1111\u001b[0m     \u001b[39mself\u001b[39m\u001b[39m.\u001b[39m_wait_in_parent(\u001b[39mself\u001b[39m\u001b[39m.\u001b[39mtempo_history\u001b[39m.\u001b[39mget_wait_time(end_beat \u001b[39m-\u001b[39m \u001b[39mself\u001b[39m\u001b[39m.\u001b[39mbeat()))\n",
      "File \u001b[0;32m/opt/conda/envs/default/lib/python3.10/site-packages/clockblocks/clock.py:1181\u001b[0m, in \u001b[0;36mClock._handle_next_wakeup_call\u001b[0;34m(self)\u001b[0m\n\u001b[1;32m   1179\u001b[0m wake_up_beat \u001b[39m=\u001b[39m next_wake_up_call\u001b[39m.\u001b[39mt\n\u001b[1;32m   1180\u001b[0m beats_till_wake \u001b[39m=\u001b[39m wake_up_beat \u001b[39m-\u001b[39m \u001b[39mself\u001b[39m\u001b[39m.\u001b[39mbeat()\n\u001b[0;32m-> 1181\u001b[0m \u001b[39mself\u001b[39;49m\u001b[39m.\u001b[39;49m_wait_in_parent(\u001b[39mself\u001b[39;49m\u001b[39m.\u001b[39;49mtempo_history\u001b[39m.\u001b[39;49mget_wait_time(beats_till_wake))\n\u001b[1;32m   1182\u001b[0m \u001b[39m# we only pop the wake up call if _wait_in_parent doesn't throw a WokenEarlyException\u001b[39;00m\n\u001b[1;32m   1183\u001b[0m \u001b[39m# also, note that this used to be self._queue.pop(0), but occasionally this\u001b[39;00m\n\u001b[1;32m   1184\u001b[0m \u001b[39m# would cause an error when a different wake up call made its way in from another thread\u001b[39;00m\n\u001b[1;32m   1185\u001b[0m \u001b[39mself\u001b[39m\u001b[39m.\u001b[39m_queue\u001b[39m.\u001b[39mremove(next_wake_up_call)\n",
      "File \u001b[0;32m/opt/conda/envs/default/lib/python3.10/site-packages/clockblocks/clock.py:1052\u001b[0m, in \u001b[0;36mClock._wait_in_parent\u001b[0;34m(self, dt)\u001b[0m\n\u001b[1;32m   1050\u001b[0m \u001b[39mself\u001b[39m\u001b[39m.\u001b[39m_dormant \u001b[39m=\u001b[39m \u001b[39mTrue\u001b[39;00m\n\u001b[1;32m   1051\u001b[0m \u001b[39mif\u001b[39;00m dt \u001b[39m>\u001b[39m \u001b[39m1e-5\u001b[39m:\n\u001b[0;32m-> 1052\u001b[0m     sleep_precisely_until(stop_sleeping_time, \u001b[39mself\u001b[39;49m\u001b[39m.\u001b[39;49m_wait_event)\n\u001b[1;32m   1053\u001b[0m \u001b[39mself\u001b[39m\u001b[39m.\u001b[39m_dormant \u001b[39m=\u001b[39m \u001b[39mFalse\u001b[39;00m\n\u001b[1;32m   1054\u001b[0m \u001b[39mif\u001b[39;00m \u001b[39mself\u001b[39m\u001b[39m.\u001b[39m_wait_event\u001b[39m.\u001b[39mis_set():\n",
      "File \u001b[0;32m/opt/conda/envs/default/lib/python3.10/site-packages/clockblocks/utilities.py:49\u001b[0m, in \u001b[0;36msleep_precisely_until\u001b[0;34m(stop_time, interruption_event)\u001b[0m\n\u001b[1;32m     47\u001b[0m \u001b[39melse\u001b[39;00m:\n\u001b[1;32m     48\u001b[0m     \u001b[39mif\u001b[39;00m interruption_event \u001b[39mis\u001b[39;00m \u001b[39mnot\u001b[39;00m \u001b[39mNone\u001b[39;00m:\n\u001b[0;32m---> 49\u001b[0m         \u001b[39mif\u001b[39;00m interruption_event\u001b[39m.\u001b[39;49mwait(timeout\u001b[39m=\u001b[39;49mtime_remaining \u001b[39m/\u001b[39;49m \u001b[39m2\u001b[39;49m):\n\u001b[1;32m     50\u001b[0m             \u001b[39mreturn\u001b[39;00m\n\u001b[1;32m     51\u001b[0m     \u001b[39melse\u001b[39;00m:\n",
      "File \u001b[0;32m/opt/conda/envs/default/lib/python3.10/threading.py:607\u001b[0m, in \u001b[0;36mEvent.wait\u001b[0;34m(self, timeout)\u001b[0m\n\u001b[1;32m    605\u001b[0m signaled \u001b[39m=\u001b[39m \u001b[39mself\u001b[39m\u001b[39m.\u001b[39m_flag\n\u001b[1;32m    606\u001b[0m \u001b[39mif\u001b[39;00m \u001b[39mnot\u001b[39;00m signaled:\n\u001b[0;32m--> 607\u001b[0m     signaled \u001b[39m=\u001b[39m \u001b[39mself\u001b[39;49m\u001b[39m.\u001b[39;49m_cond\u001b[39m.\u001b[39;49mwait(timeout)\n\u001b[1;32m    608\u001b[0m \u001b[39mreturn\u001b[39;00m signaled\n",
      "File \u001b[0;32m/opt/conda/envs/default/lib/python3.10/threading.py:324\u001b[0m, in \u001b[0;36mCondition.wait\u001b[0;34m(self, timeout)\u001b[0m\n\u001b[1;32m    322\u001b[0m \u001b[39melse\u001b[39;00m:\n\u001b[1;32m    323\u001b[0m     \u001b[39mif\u001b[39;00m timeout \u001b[39m>\u001b[39m \u001b[39m0\u001b[39m:\n\u001b[0;32m--> 324\u001b[0m         gotit \u001b[39m=\u001b[39m waiter\u001b[39m.\u001b[39;49macquire(\u001b[39mTrue\u001b[39;49;00m, timeout)\n\u001b[1;32m    325\u001b[0m     \u001b[39melse\u001b[39;00m:\n\u001b[1;32m    326\u001b[0m         gotit \u001b[39m=\u001b[39m waiter\u001b[39m.\u001b[39macquire(\u001b[39mFalse\u001b[39;00m)\n",
      "\u001b[0;31mKeyboardInterrupt\u001b[0m: "
     ]
    }
   ],
   "source": [
    "touch_osc_session, touch_osc_part = start_session()\n",
    "\n",
    "test_run(touch_osc_session, touch_osc_part, 50, 80, 2, [0, 4, 7], 10)"
   ]
  },
  {
   "cell_type": "markdown",
   "metadata": {},
   "source": [
    "## Using python osc\n",
    "\n",
    "Scamps's osc feature seems to have been developed with only ScampUtils of supercollider in mind and does not communicate directly with touchosc's natural way of doing things. \n",
    "\n",
    "Until a proper script in lua (or scamp) is developed, python-osc helps with experimentation.\n"
   ]
  },
  {
   "cell_type": "code",
   "execution_count": 10,
   "metadata": {},
   "outputs": [],
   "source": [
    "client = udp_client.SimpleUDPClient(\"touch_osc\", 9000)"
   ]
  },
  {
   "cell_type": "code",
   "execution_count": 11,
   "metadata": {},
   "outputs": [
    {
     "name": "stdout",
     "output_type": "stream",
     "text": [
      "[50, 52, 54, 56, 58, 58, 56, 54, 52, 50]\n"
     ]
    }
   ],
   "source": [
    "lowest = 50\n",
    "highest = 60\n",
    "sequence = [*range(lowest, highest, 2), *reversed(range(lowest, highest, 2))]\n",
    "print(sequence)\n",
    "for _ in range(1):\n",
    "    for x in sequence:\n",
    "        address = \"/touch_osc\"\n",
    "        # pitch = x * 2 + 50\n",
    "        pitches = [\n",
    "            # x * 2 + 50 + 2,\n",
    "            x\n",
    "            # x * 2 + 40,\n",
    "        ]\n",
    "        # velocity = x * 10\n",
    "        for pitch in pitches:\n",
    "            client.send_message(f\"{address}/start_note\", [pitch, 127])\n",
    "        time.sleep(0.3)\n",
    "        for pitch in pitches:\n",
    "            client.send_message(f\"{address}/end_note\", [pitch, 127])\n",
    "        time.sleep(0.5)"
   ]
  }
 ],
 "metadata": {
  "kernelspec": {
   "display_name": "Python 3.9.16 ('default')",
   "language": "python",
   "name": "python3"
  },
  "language_info": {
   "codemirror_mode": {
    "name": "ipython",
    "version": 3
   },
   "file_extension": ".py",
   "mimetype": "text/x-python",
   "name": "python",
   "nbconvert_exporter": "python",
   "pygments_lexer": "ipython3",
   "version": "3.10.12"
  },
  "orig_nbformat": 4,
  "vscode": {
   "interpreter": {
    "hash": "b19c504e0abe9af0b80e78d873495a79ef781516362c519732adc3cb489b6869"
   }
  }
 },
 "nbformat": 4,
 "nbformat_minor": 2
}
