{
 "cells": [
  {
   "cell_type": "code",
   "execution_count": 1,
   "metadata": {},
   "outputs": [
    {
     "name": "stdout",
     "output_type": "stream",
     "text": [
      "Testing for working audio driver...\n",
      "jackdmp 1.9.22\n",
      "Copyright 2001-2005 Paul Davis and others.\n",
      "Copyright 2004-2016 Grame.\n",
      "Copyright 2016-2023 Filipe Coelho.\n",
      "jackdmp comes with ABSOLUTELY NO WARRANTY\n",
      "This is free software, and you are welcome to redistribute it\n",
      "under certain conditions; see the file COPYING for details\n",
      "JACK server starting in realtime mode with priority 10\n",
      "self-connect-mode is \"Don't restrict self connect requests\"\n",
      "creating alsa driver ... hw:0|hw:0|1024|2|48000|0|0|nomon|swmeter|-|32bit\n"
     ]
    },
    {
     "name": "stderr",
     "output_type": "stream",
     "text": [
      "ALSA lib confmisc.c:855:(parse_card) cannot find card '0'\n",
      "ALSA lib conf.c:5180:(_snd_config_evaluate) function snd_func_card_inum returned error: No such file or directory\n",
      "ALSA lib confmisc.c:422:(snd_func_concat) error evaluating strings\n",
      "ALSA lib conf.c:5180:(_snd_config_evaluate) function snd_func_concat returned error: No such file or directory\n",
      "ALSA lib confmisc.c:1334:(snd_func_refer) error evaluating name\n",
      "ALSA lib conf.c:5180:(_snd_config_evaluate) function snd_func_refer returned error: No such file or directory\n",
      "ALSA lib conf.c:5703:(snd_config_expand) Evaluate error: No such file or directory\n",
      "ALSA lib pcm.c:2666:(snd_pcm_open_noupdate) Unknown PCM default\n",
      "fluidsynth: error: Failed to open the \"default\" audio device\n",
      "ALSA lib seq_hw.c:466:(snd_seq_hw_open) open /dev/snd/seq failed: No such file or directory\n",
      "fluidsynth: error: Error opening ALSA sequencer\n",
      "fluidsynth: error: Couldn't find the requested audio driver 'coreaudio'.\n",
      "fluidsynth: This build of fluidsynth supports the following audio drivers: alsa, file, jack, oss, pulseaudio, sdl2\n",
      "ALSA lib seq_hw.c:466:(snd_seq_hw_open) open /dev/snd/seq failed: No such file or directory\n",
      "fluidsynth: error: Error opening ALSA sequencer\n",
      "fluidsynth: error: Couldn't find the requested audio driver 'dsound'.\n",
      "fluidsynth: This build of fluidsynth supports the following audio drivers: alsa, file, jack, oss, pulseaudio, sdl2\n",
      "ALSA lib seq_hw.c:466:(snd_seq_hw_open) open /dev/snd/seq failed: No such file or directory\n",
      "fluidsynth: error: Error opening ALSA sequencer\n",
      "fluidsynth: error: Couldn't find the requested audio driver 'Direct Sound'.\n",
      "fluidsynth: This build of fluidsynth supports the following audio drivers: alsa, file, jack, oss, pulseaudio, sdl2\n",
      "ALSA lib seq_hw.c:466:(snd_seq_hw_open) open /dev/snd/seq failed: No such file or directory\n",
      "fluidsynth: error: Error opening ALSA sequencer\n",
      "fluidsynth: error: Device </dev/dsp> could not be opened for writing: No such file or directory\n",
      "ALSA lib seq_hw.c:466:(snd_seq_hw_open) open /dev/snd/seq failed: No such file or directory\n",
      "fluidsynth: error: Error opening ALSA sequencer\n",
      "fluidsynth: error: Failed to create PulseAudio connection, because pa_simple_new() failed with error: Connection refused\n",
      "ALSA lib seq_hw.c:466:(snd_seq_hw_open) open /dev/snd/seq failed: No such file or directory\n",
      "fluidsynth: error: Error opening ALSA sequencer\n",
      "Cannot connect to server socket err = No such file or directory\n",
      "Cannot connect to server request channel\n",
      "Cannot lock down 107341340 byte memory area (Cannot allocate memory)\n",
      "ALSA lib confmisc.c:165:(snd_config_get_card) Cannot get card index for 0\n",
      "control open \"hw:0\" (No such file or directory)\n",
      "ALSA lib confmisc.c:165:(snd_config_get_card) Cannot get card index for 0\n",
      "ALSA lib confmisc.c:165:(snd_config_get_card) Cannot get card index for 0\n",
      "ALSA: Cannot open PCM device alsa_pcm for playback. Falling back to capture-only mode\n",
      "JackTemporaryException : now quits...\n",
      "Cannot initialize driver\n",
      "JackServer::Open failed with -1\n",
      "Failed to open server\n",
      "Cannot connect to server socket err = No such file or directory\n",
      "Cannot connect to server request channel\n",
      "Cannot connect to server socket err = No such file or directory\n",
      "Cannot connect to server request channel\n",
      "Cannot connect to server socket err = No such file or directory\n",
      "Cannot connect to server request channel\n",
      "Cannot connect to server socket err = No such file or directory\n",
      "Cannot connect to server request channel\n",
      "Cannot connect to server socket err = No such file or directory\n",
      "Cannot connect to server request channel\n",
      "jack server is not running or cannot be started\n",
      "JackShmReadWritePtr::~JackShmReadWritePtr - Init not done for -1, skipping unlock\n",
      "JackShmReadWritePtr::~JackShmReadWritePtr - Init not done for -1, skipping unlock\n",
      "fluidsynth: error: Failed to connect to Jack server.\n",
      "ALSA lib seq_hw.c:466:(snd_seq_hw_open) open /dev/snd/seq failed: No such file or directory\n",
      "fluidsynth: error: Error opening ALSA sequencer\n",
      "fluidsynth: error: Couldn't find the requested audio driver 'portaudio'.\n",
      "fluidsynth: This build of fluidsynth supports the following audio drivers: alsa, file, jack, oss, pulseaudio, sdl2\n",
      "ALSA lib seq_hw.c:466:(snd_seq_hw_open) open /dev/snd/seq failed: No such file or directory\n",
      "fluidsynth: error: Error opening ALSA sequencer\n",
      "fluidsynth: error: Couldn't find the requested audio driver 'sndmgr'.\n",
      "fluidsynth: This build of fluidsynth supports the following audio drivers: alsa, file, jack, oss, pulseaudio, sdl2\n",
      "ALSA lib seq_hw.c:466:(snd_seq_hw_open) open /dev/snd/seq failed: No such file or directory\n",
      "fluidsynth: error: Error opening ALSA sequencer\n",
      "WARNING:root:No working audio driver was found; synth output will not be available.\n",
      "WARNING:root:pynput was not found; mouse and keyboard input will not be available.\n"
     ]
    }
   ],
   "source": [
    "from scamp import *"
   ]
  },
  {
   "cell_type": "code",
   "execution_count": 3,
   "metadata": {},
   "outputs": [
    {
     "data": {
      "text/plain": [
       "Performance([\n",
       "   PerformancePart(name='organReed', instrument_id=('organReed', 0), voices={\n",
       "      '_unspecified_': [\n",
       "         PerformanceNote(start_beat=0.0, length=0.25, pitch=55, volume=1.0, properties=NoteProperties()),\n",
       "         PerformanceNote(start_beat=0.25, length=0.25, pitch=66, volume=1.0, properties=NoteProperties()),\n",
       "         PerformanceNote(start_beat=0.5, length=0.25, pitch=33, volume=1.0, properties=NoteProperties()),\n",
       "         PerformanceNote(start_beat=0.75, length=0.25, pitch=75, volume=1.0, properties=NoteProperties())\n",
       "      ]\n",
       "   })\n",
       "])"
      ]
     },
     "execution_count": 3,
     "metadata": {},
     "output_type": "execute_result"
    }
   ],
   "source": [
    "session = Session()\n",
    "session.fast_forward_in_beats(200)\n",
    "# piano1 = session.new_part(\"Piano\")\n",
    "supercollider = session.new_osc_part(\"organReed\", 57120, \"192.168.1.151\")\n",
    "\n",
    "pitches = [55, 66, 33, 75]\n",
    "\n",
    "session.start_transcribing()\n",
    "\n",
    "for pitch in pitches:\n",
    "    supercollider.play_note(pitch, 1.0, 0.25)\n",
    "\n",
    "session.stop_transcribing()"
   ]
  }
 ],
 "metadata": {
  "kernelspec": {
   "display_name": "Python 3.9.16 ('default')",
   "language": "python",
   "name": "python3"
  },
  "language_info": {
   "codemirror_mode": {
    "name": "ipython",
    "version": 3
   },
   "file_extension": ".py",
   "mimetype": "text/x-python",
   "name": "python",
   "nbconvert_exporter": "python",
   "pygments_lexer": "ipython3",
   "version": "3.10.10"
  },
  "orig_nbformat": 4,
  "vscode": {
   "interpreter": {
    "hash": "b19c504e0abe9af0b80e78d873495a79ef781516362c519732adc3cb489b6869"
   }
  }
 },
 "nbformat": 4,
 "nbformat_minor": 2
}
