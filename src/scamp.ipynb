{
 "cells": [
  {
   "cell_type": "code",
   "execution_count": 2,
   "metadata": {},
   "outputs": [
    {
     "name": "stdout",
     "output_type": "stream",
     "text": [
      "Testing for working audio driver...\n",
      "jackdmp 1.9.22\n",
      "Copyright 2001-2005 Paul Davis and others.\n",
      "Copyright 2004-2016 Grame.\n",
      "Copyright 2016-2023 Filipe Coelho.\n",
      "jackdmp comes with ABSOLUTELY NO WARRANTY\n",
      "This is free software, and you are welcome to redistribute it\n",
      "under certain conditions; see the file COPYING for details\n"
     ]
    },
    {
     "name": "stderr",
     "output_type": "stream",
     "text": [
      "ALSA lib conf.c:4005:(snd_config_hooks_call) Cannot open shared library libasound_module_conf_pulse.so (/opt/conda/envs/default/lib/alsa-lib/libasound_module_conf_pulse.so: cannot open shared object file: No such file or directory)\n",
      "ALSA lib pcm.c:2666:(snd_pcm_open_noupdate) Unknown PCM default\n",
      "fluidsynth: error: Failed to open the \"default\" audio device\n",
      "ALSA lib seq_hw.c:466:(snd_seq_hw_open) open /dev/snd/seq failed: No such file or directory\n",
      "fluidsynth: error: Error opening ALSA sequencer\n",
      "fluidsynth: error: Couldn't find the requested audio driver 'coreaudio'.\n",
      "fluidsynth: This build of fluidsynth supports the following audio drivers: alsa, file, jack, oss, pulseaudio, sdl2\n",
      "ALSA lib seq_hw.c:466:(snd_seq_hw_open) open /dev/snd/seq failed: No such file or directory\n",
      "fluidsynth: error: Error opening ALSA sequencer\n",
      "fluidsynth: error: Couldn't find the requested audio driver 'dsound'.\n",
      "fluidsynth: This build of fluidsynth supports the following audio drivers: alsa, file, jack, oss, pulseaudio, sdl2\n",
      "ALSA lib seq_hw.c:466:(snd_seq_hw_open) open /dev/snd/seq failed: No such file or directory\n",
      "fluidsynth: error: Error opening ALSA sequencer\n",
      "fluidsynth: error: Couldn't find the requested audio driver 'Direct Sound'.\n",
      "fluidsynth: This build of fluidsynth supports the following audio drivers: alsa, file, jack, oss, pulseaudio, sdl2\n",
      "ALSA lib seq_hw.c:466:(snd_seq_hw_open) open /dev/snd/seq failed: No such file or directory\n",
      "fluidsynth: error: Error opening ALSA sequencer\n",
      "fluidsynth: error: Device </dev/dsp> could not be opened for writing: No such file or directory\n",
      "ALSA lib seq_hw.c:466:(snd_seq_hw_open) open /dev/snd/seq failed: No such file or directory\n",
      "fluidsynth: error: Error opening ALSA sequencer\n",
      "shm_open() failed: No such file or directory\n",
      "fluidsynth: error: Failed to create PulseAudio connection, because pa_simple_new() failed with error: Protocol error\n",
      "ALSA lib seq_hw.c:466:(snd_seq_hw_open) open /dev/snd/seq failed: No such file or directory\n",
      "fluidsynth: error: Error opening ALSA sequencer\n",
      "Cannot connect to server socket err = No such file or directory\n",
      "Cannot connect to server request channel\n",
      "\n",
      "Usage: jackdmp [ --no-realtime OR -r ]\n",
      "               [ --realtime OR -R [ --realtime-priority OR -P priority ] ]\n",
      "      (the two previous arguments are mutually exclusive. The default is --realtime)\n",
      "               [ --name OR -n server-name ]\n",
      "               [ --timeout OR -t client-timeout-in-msecs ]\n",
      "               [ --loopback OR -L loopback-port-number ]\n",
      "               [ --port-max OR -p maximum-number-of-ports]\n",
      "               [ --slave-backend OR -X slave-backend-name ]\n",
      "               [ --internal-client OR -I internal-client-name ]\n",
      "               [ --internal-session-file OR -C internal-session-file ]\n",
      "               [ --verbose OR -v ]\n",
      "               [ --clocksource OR -c [ h(pet) | s(ystem) ]\n",
      "               [ --autoconnect OR -a <modechar>]\n",
      "                 where <modechar> is one of:\n",
      "                   ' ' - Don't restrict self connect requests (default)\n",
      "                   'E' - Fail self connect requests to external ports only\n",
      "                   'e' - Ignore self connect requests to external ports only\n",
      "                   'A' - Fail all self connect requests\n",
      "                   'a' - Ignore all self connect requests\n",
      "               [ --replace-registry ]\n",
      "               [ --silent OR -s ]\n",
      "               [ --sync OR -S ]\n",
      "               [ --temporary OR -T ]\n",
      "               [ --version OR -V ]\n",
      "         -d master-backend-name [ ... master-backend args ... ]\n",
      "       jackdmp -d master-backend-name --help\n",
      "             to display options for each master backend\n",
      "\n",
      "Cannot connect to server socket err = No such file or directory\n",
      "Cannot connect to server request channel\n",
      "Cannot connect to server socket err = No such file or directory\n",
      "Cannot connect to server request channel\n",
      "Cannot connect to server socket err = No such file or directory\n",
      "Cannot connect to server request channel\n",
      "Cannot connect to server socket err = No such file or directory\n",
      "Cannot connect to server request channel\n",
      "Cannot connect to server socket err = No such file or directory\n",
      "Cannot connect to server request channel\n",
      "jack server is not running or cannot be started\n",
      "JackShmReadWritePtr::~JackShmReadWritePtr - Init not done for -1, skipping unlock\n",
      "JackShmReadWritePtr::~JackShmReadWritePtr - Init not done for -1, skipping unlock\n",
      "fluidsynth: error: Failed to connect to Jack server.\n",
      "ALSA lib seq_hw.c:466:(snd_seq_hw_open) open /dev/snd/seq failed: No such file or directory\n",
      "fluidsynth: error: Error opening ALSA sequencer\n",
      "fluidsynth: error: Couldn't find the requested audio driver 'portaudio'.\n",
      "fluidsynth: This build of fluidsynth supports the following audio drivers: alsa, file, jack, oss, pulseaudio, sdl2\n",
      "ALSA lib seq_hw.c:466:(snd_seq_hw_open) open /dev/snd/seq failed: No such file or directory\n",
      "fluidsynth: error: Error opening ALSA sequencer\n",
      "fluidsynth: error: Couldn't find the requested audio driver 'sndmgr'.\n",
      "fluidsynth: This build of fluidsynth supports the following audio drivers: alsa, file, jack, oss, pulseaudio, sdl2\n",
      "ALSA lib seq_hw.c:466:(snd_seq_hw_open) open /dev/snd/seq failed: No such file or directory\n",
      "WARNING:root:No working audio driver was found; synth output will not be available.\n",
      "fluidsynth: error: Error opening ALSA sequencer\n",
      "WARNING:root:pynput was not found; mouse and keyboard input will not be available.\n"
     ]
    }
   ],
   "source": [
    "from scamp import test_run, Session, settings, wait\n",
    "from config import ARTIFACTS_RELPATH\n",
    "from scamp_utils import set_default_scamp_settings\n",
    "from scamp_extensions.pitch import Scale, ScaleType, hertz_to_midi\n",
    "from numbers import Real\n",
    "from operator import itemgetter\n",
    "from itertools import chain\n",
    "from common_utils.supercollider import SuperCollider\n",
    "import numpy as np\n",
    "\n",
    "set_default_scamp_settings()"
   ]
  },
  {
   "cell_type": "code",
   "execution_count": 7,
   "metadata": {},
   "outputs": [],
   "source": [
    "HOST = \"supercollider\"\n",
    "session = Session().run_as_server()\n",
    "supercollider = SuperCollider(\"../.scd_specs.json\", HOST)\n",
    "connection_params = {\n",
    "    \"port\": supercollider.get_lang_port(),\n",
    "    \"ip_address\": HOST,\n",
    "}\n",
    "inst = session.new_osc_part(\n",
    "    \"scamp1\", port=supercollider.get_lang_port(), ip_address=HOST\n",
    ")"
   ]
  },
  {
   "cell_type": "code",
   "execution_count": 8,
   "metadata": {},
   "outputs": [],
   "source": [
    "# fmt: off\n",
    "# JS Bach, BWV 147 No.10 - Jesu, Joy of Man's Desiring\n",
    "bach_bwv_147_10 = np.array( [\n",
    "        [ 0, 2, 4, 7, 5, 5, 9, 7, 7, 12, 11, 12, 7, 4, 0, 2, 4, ],\n",
    "        [ 5, 7, 9, 7, 5, 4, 2, 4, 0, -1, 0, 2, -5, -1, 2, 5, 4, 2, 4, ],\n",
    "        [ 0, 2, 4, 7, 5, 5, 9, 7, 7, 12, 11, 12, 7, 4, ],\n",
    "        [ 0, 2, 4, 5, 7, 5, 4, 2, 0, -5, 0, -1, 0, 4, 7, 12, 7, 4, ],\n",
    "    ],\n",
    "    dtype=object,\n",
    ")\n",
    "# fmt: on"
   ]
  },
  {
   "cell_type": "code",
   "execution_count": 9,
   "metadata": {},
   "outputs": [
    {
     "ename": "KeyboardInterrupt",
     "evalue": "",
     "output_type": "error",
     "traceback": [
      "\u001b[0;31m---------------------------------------------------------------------------\u001b[0m",
      "\u001b[0;31mKeyboardInterrupt\u001b[0m                         Traceback (most recent call last)",
      "Cell \u001b[0;32mIn[9], line 12\u001b[0m\n\u001b[1;32m     10\u001b[0m \u001b[38;5;28;01mfor\u001b[39;00m pitch, velocity, duration \u001b[38;5;129;01min\u001b[39;00m \u001b[38;5;28mzip\u001b[39m(sequence, velocities, durations):\n\u001b[1;32m     11\u001b[0m     inst\u001b[38;5;241m.\u001b[39mplay_note(pitch, velocity, duration, blocking\u001b[38;5;241m=\u001b[39m\u001b[38;5;28;01mFalse\u001b[39;00m)\n\u001b[0;32m---> 12\u001b[0m     wait(duration \u001b[38;5;241m*\u001b[39m \u001b[38;5;241m2\u001b[39m)\n",
      "File \u001b[0;32m/opt/conda/envs/default/lib/python3.11/site-packages/clockblocks/utilities.py:89\u001b[0m, in \u001b[0;36mwait\u001b[0;34m(dt, units)\u001b[0m\n\u001b[1;32m     87\u001b[0m     current_clock()\u001b[39m.\u001b[39mwait(dt, units\u001b[39m=\u001b[39munits)\n\u001b[1;32m     88\u001b[0m \u001b[39melse\u001b[39;00m:\n\u001b[0;32m---> 89\u001b[0m     time\u001b[39m.\u001b[39msleep(dt)\n",
      "\u001b[0;31mKeyboardInterrupt\u001b[0m: "
     ]
    }
   ],
   "source": [
    "# sequence = [48, 50, 49, 51, 48, 48, 60, 58, 55, 50, 48]\n",
    "# sequence = [[i - 10, i] for i in sequence] * 10\n",
    "# velocities = [1, 1 / 2, 1, 1 / 5, 1, 0.5, 1, 1, 1 / 2, 0.8, 0.2, 1]\n",
    "# durations = [1, 1 / 4, 1 / 2, 1, 1, 1 / 2, 1 / 4, 1 / 4, 1 / 2, 1 / 2, 1]\n",
    "\n",
    "sequence = [48 + i for i in np.hstack(bach_bwv_147_10).tolist()]\n",
    "velocities = np.repeat(0.8, len(sequence)).tolist()\n",
    "durations = np.repeat(1/6, len(sequence)).tolist()\n",
    "\n",
    "for pitch, velocity, duration in zip(sequence, velocities, durations):\n",
    "    inst.play_note(pitch, velocity, duration, blocking=False)\n",
    "    wait(duration * 2)"
   ]
  },
  {
   "cell_type": "code",
   "execution_count": 1,
   "metadata": {},
   "outputs": [
    {
     "ename": "NameError",
     "evalue": "name 'inst' is not defined",
     "output_type": "error",
     "traceback": [
      "\u001b[0;31m---------------------------------------------------------------------------\u001b[0m",
      "\u001b[0;31mNameError\u001b[0m                                 Traceback (most recent call last)",
      "Cell \u001b[0;32mIn[1], line 5\u001b[0m\n\u001b[1;32m      3\u001b[0m \u001b[38;5;28;01mfor\u001b[39;00m root \u001b[38;5;129;01min\u001b[39;00m sequence:\n\u001b[1;32m      4\u001b[0m     chord \u001b[38;5;241m=\u001b[39m [root \u001b[38;5;241m+\u001b[39m i \u001b[38;5;28;01mfor\u001b[39;00m i \u001b[38;5;129;01min\u001b[39;00m \u001b[38;5;28mrange\u001b[39m(\u001b[38;5;241m0\u001b[39m, \u001b[38;5;241m13\u001b[39m, \u001b[38;5;241m2\u001b[39m)]\n\u001b[0;32m----> 5\u001b[0m     inst\u001b[38;5;241m.\u001b[39mplay_chord(chord, \u001b[38;5;241m0.8\u001b[39m, \u001b[38;5;241m2\u001b[39m)\n\u001b[1;32m      6\u001b[0m     wait(\u001b[38;5;241m2\u001b[39m)\n",
      "\u001b[0;31mNameError\u001b[0m: name 'inst' is not defined"
     ]
    }
   ],
   "source": [
    "sequence = [0, 5, 7, 13, 5, 7, 1] * 4\n",
    "sequence = [48 + i for i in sequence]\n",
    "for root in sequence:\n",
    "    chord = [root + i for i in range(0, 13, 2)]\n",
    "    inst.play_chord(chord, 0.8, 2)\n",
    "    wait(2)"
   ]
  }
 ],
 "metadata": {
  "kernelspec": {
   "display_name": "Python 3.11.6 64-bit ('default')",
   "language": "python",
   "name": "python3"
  },
  "language_info": {
   "codemirror_mode": {
    "name": "ipython",
    "version": 3
   },
   "file_extension": ".py",
   "mimetype": "text/x-python",
   "name": "python",
   "nbconvert_exporter": "python",
   "pygments_lexer": "ipython3",
   "version": "3.11.6"
  },
  "orig_nbformat": 4,
  "vscode": {
   "interpreter": {
    "hash": "b19c504e0abe9af0b80e78d873495a79ef781516362c519732adc3cb489b6869"
   }
  }
 },
 "nbformat": 4,
 "nbformat_minor": 2
}
