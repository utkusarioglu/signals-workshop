{
 "cells": [
  {
   "cell_type": "code",
   "execution_count": 4,
   "metadata": {},
   "outputs": [],
   "source": [
    "from scamp import test_run, Session, settings, wait\n",
    "from config import ARTIFACTS_RELPATH\n",
    "from scamp_utils import set_default_scamp_settings\n",
    "from scamp_extensions.pitch import Scale, ScaleType, hertz_to_midi\n",
    "from numbers import Real\n",
    "from operator import itemgetter\n",
    "from itertools import chain\n",
    "from common_utils.supercollider import SuperCollider\n",
    "\n",
    "set_default_scamp_settings()"
   ]
  },
  {
   "cell_type": "code",
   "execution_count": 5,
   "metadata": {},
   "outputs": [],
   "source": [
    "HOST = \"supercollider\"\n",
    "session = Session().run_as_server()\n",
    "supercollider = SuperCollider(\"../.scd_specs.json\", HOST)\n",
    "connection_params = {\n",
    "    \"port\": supercollider.get_lang_port(),\n",
    "    \"ip_address\": HOST,\n",
    "}\n",
    "inst = session.new_osc_part(\n",
    "    \"scamp1\", port=supercollider.get_lang_port(), ip_address=HOST\n",
    ")"
   ]
  },
  {
   "cell_type": "code",
   "execution_count": 6,
   "metadata": {},
   "outputs": [],
   "source": [
    "sequence = [48, 50, 49, 51, 48, 48, 60, 58, 55, 50, 48]\n",
    "sequence = [[i - 10, i] for i in sequence]\n",
    "velocities = [1, 1 / 2, 1, 1 / 5, 1, 0.5, 1, 1, 1 / 2, 0.8, 0.2, 1]\n",
    "durations = [1, 1 / 4, 1 / 2, 1, 1, 1 / 2, 1 / 4, 1 / 4, 1 / 2, 1 / 2, 1]\n",
    "\n",
    "for pitch, velocity, duration in zip(sequence, velocities, durations):\n",
    "    inst.play_note(pitch, velocity, duration, blocking=False)\n",
    "    wait(duration * 2)"
   ]
  }
 ],
 "metadata": {
  "kernelspec": {
   "display_name": "Python 3.11.6 64-bit ('default')",
   "language": "python",
   "name": "python3"
  },
  "language_info": {
   "codemirror_mode": {
    "name": "ipython",
    "version": 3
   },
   "file_extension": ".py",
   "mimetype": "text/x-python",
   "name": "python",
   "nbconvert_exporter": "python",
   "pygments_lexer": "ipython3",
   "version": "3.11.6"
  },
  "orig_nbformat": 4,
  "vscode": {
   "interpreter": {
    "hash": "b19c504e0abe9af0b80e78d873495a79ef781516362c519732adc3cb489b6869"
   }
  }
 },
 "nbformat": 4,
 "nbformat_minor": 2
}
