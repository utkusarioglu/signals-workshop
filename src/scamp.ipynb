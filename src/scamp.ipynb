{
 "cells": [
  {
   "cell_type": "code",
   "execution_count": 11,
   "metadata": {},
   "outputs": [],
   "source": [
    "from scamp import test_run, Session, settings, wait\n",
    "from config import ARTIFACTS_RELPATH\n",
    "from scamp_utils import set_default_scamp_settings\n",
    "from scamp_extensions.pitch import Scale, ScaleType, hertz_to_midi\n",
    "from numbers import Real\n",
    "from operator import itemgetter\n",
    "from itertools import chain\n",
    "from common_utils.supercollider import SuperCollider\n",
    "import numpy as np\n",
    "\n",
    "set_default_scamp_settings()\n"
   ]
  },
  {
   "cell_type": "code",
   "execution_count": 12,
   "metadata": {},
   "outputs": [],
   "source": [
    "HOST = \"supercollider\"\n",
    "session = Session().run_as_server()\n",
    "session.tempo = 65\n",
    "\n",
    "supercollider = SuperCollider(\"../artifacts/scd_runtime.json\", HOST)\n",
    "connection_params = {\n",
    "    \"port\": supercollider.get_lang_port(),\n",
    "    \"ip_address\": HOST,\n",
    "}\n",
    "inst1 = session.new_osc_part(\n",
    "    \"scamp1\", port=supercollider.get_lang_port(), ip_address=HOST\n",
    ")\n",
    "inst2 = session.new_osc_part(\n",
    "    \"scamp1\", port=supercollider.get_lang_port(), ip_address=HOST\n",
    ")\n"
   ]
  },
  {
   "cell_type": "code",
   "execution_count": 13,
   "metadata": {},
   "outputs": [],
   "source": [
    "def bach_bwv_147_10():\n",
    "    # fmt: off\n",
    "    # JS Bach, BWV 147 No.10 - Jesu, Joy of Man's Desiring\n",
    "    bach_bwv_147_10_sequence = np.array( [\n",
    "            [ 0, 2, 4, 7, 5, 5, 9, 7, 7, 12, 11, 12, 7, 4, 0, 2, 4, ],\n",
    "            # [ 5, 7, 9, 7, 5, 4, 2, 4, 0, -1, 0, 2, -5, -1, 2, 5, 4, 2, 4, ],\n",
    "            # [ 0, 2, 4, 7, 5, 5, 9, 7, 7, 12, 11, 12, 7, 4, ],\n",
    "            # [ 0, 2, 4, -5, 7, 5, 4, 2, 0, -5, 0, -1, 0, 4, 7, 12, 7, 4, ],\n",
    "        ],\n",
    "        dtype=object,\n",
    "    )\n",
    "    # fmt: on\n",
    "    sequence = [48 + i for i in np.hstack(bach_bwv_147_10_sequence).tolist()]\n",
    "    velocities = np.repeat(0.8, len(sequence)).tolist()\n",
    "    durations = np.repeat(1 / 3, len(sequence)).tolist()\n",
    "\n",
    "    for pitch, velocity, duration in zip(sequence, velocities, durations):\n",
    "        inst1.play_note(\n",
    "            pitch,\n",
    "            velocity,\n",
    "            duration,\n",
    "            [{\"articulations\": \"staccato\"}],\n",
    "        )\n",
    "        # wait(duration)\n"
   ]
  },
  {
   "cell_type": "code",
   "execution_count": 21,
   "metadata": {},
   "outputs": [],
   "source": [
    "def some_bass_line(note_duration: float):\n",
    "    sequence = [48 + i for i in [0, 2, 4]] * 6\n",
    "    velocities = np.repeat(0.8, len(sequence)).tolist()\n",
    "    durations = np.repeat(note_duration, len(sequence)).tolist()\n",
    "\n",
    "    for pitch, velocity, duration in zip(sequence, velocities, durations):\n",
    "        inst2.play_note(\n",
    "            pitch,\n",
    "            velocity,\n",
    "            duration,\n",
    "            [{\"articulations\": \"staccato\"}, \"pitch - 12\"],\n",
    "        )\n",
    "        # wait(duration)\n"
   ]
  },
  {
   "cell_type": "code",
   "execution_count": 20,
   "metadata": {},
   "outputs": [
    {
     "name": "stderr",
     "output_type": "stream",
     "text": [
      "WARNING:root:Clock MASTER (beat=49.387205481529236) is running noticeably behind real time (2.17711 s) on a wait call of 0.15385 s; probably processing is too heavy.\n"
     ]
    }
   ],
   "source": [
    "session.fork(bach_bwv_147_10)\n",
    "session.fork(some_bass_line, args=[1/2])\n",
    "session.wait_for_children_to_finish()\n"
   ]
  },
  {
   "cell_type": "code",
   "execution_count": null,
   "metadata": {},
   "outputs": [],
   "source": [
    "# sequence = [0, 5, 7, 13, 5, 7, 1] * 4\n",
    "# sequence = [48 + i for i in sequence]\n",
    "# for root in sequence:\n",
    "#     chord = [root + i for i in range(0, 13, 2)]\n",
    "#     inst.play_chord(chord, 0.8, 2)\n",
    "#     wait(2)\n"
   ]
  }
 ],
 "metadata": {
  "kernelspec": {
   "display_name": "Python 3.11.6 64-bit ('default')",
   "language": "python",
   "name": "python3"
  },
  "language_info": {
   "codemirror_mode": {
    "name": "ipython",
    "version": 3
   },
   "file_extension": ".py",
   "mimetype": "text/x-python",
   "name": "python",
   "nbconvert_exporter": "python",
   "pygments_lexer": "ipython3",
   "version": "3.11.6"
  },
  "orig_nbformat": 4,
  "vscode": {
   "interpreter": {
    "hash": "b19c504e0abe9af0b80e78d873495a79ef781516362c519732adc3cb489b6869"
   }
  }
 },
 "nbformat": 4,
 "nbformat_minor": 2
}
