{
 "cells": [
  {
   "cell_type": "code",
   "execution_count": 1,
   "metadata": {},
   "outputs": [
    {
     "name": "stdout",
     "output_type": "stream",
     "text": [
      "Testing for working audio driver...\n",
      "jackdmp 1.9.22\n",
      "Copyright 2001-2005 Paul Davis and others.\n",
      "Copyright 2004-2016 Grame.\n",
      "Copyright 2016-2023 Filipe Coelho.\n",
      "jackdmp comes with ABSOLUTELY NO WARRANTY\n",
      "This is free software, and you are welcome to redistribute it\n",
      "under certain conditions; see the file COPYING for details\n"
     ]
    },
    {
     "name": "stderr",
     "output_type": "stream",
     "text": [
      "ALSA lib conf.c:4005:(snd_config_hooks_call) Cannot open shared library libasound_module_conf_pulse.so (/opt/conda/envs/default/lib/alsa-lib/libasound_module_conf_pulse.so: cannot open shared object file: No such file or directory)\n",
      "ALSA lib pcm.c:2666:(snd_pcm_open_noupdate) Unknown PCM default\n",
      "fluidsynth: error: Failed to open the \"default\" audio device\n",
      "ALSA lib seq_hw.c:466:(snd_seq_hw_open) open /dev/snd/seq failed: No such file or directory\n",
      "fluidsynth: error: Error opening ALSA sequencer\n",
      "fluidsynth: error: Couldn't find the requested audio driver 'coreaudio'.\n",
      "fluidsynth: This build of fluidsynth supports the following audio drivers: alsa, file, jack, oss, pulseaudio, sdl2\n",
      "ALSA lib seq_hw.c:466:(snd_seq_hw_open) open /dev/snd/seq failed: No such file or directory\n",
      "fluidsynth: error: Error opening ALSA sequencer\n",
      "fluidsynth: error: Couldn't find the requested audio driver 'dsound'.\n",
      "fluidsynth: This build of fluidsynth supports the following audio drivers: alsa, file, jack, oss, pulseaudio, sdl2\n",
      "ALSA lib seq_hw.c:466:(snd_seq_hw_open) open /dev/snd/seq failed: No such file or directory\n",
      "fluidsynth: error: Error opening ALSA sequencer\n",
      "fluidsynth: error: Couldn't find the requested audio driver 'Direct Sound'.\n",
      "fluidsynth: This build of fluidsynth supports the following audio drivers: alsa, file, jack, oss, pulseaudio, sdl2\n",
      "ALSA lib seq_hw.c:466:(snd_seq_hw_open) open /dev/snd/seq failed: No such file or directory\n",
      "fluidsynth: error: Error opening ALSA sequencer\n",
      "fluidsynth: error: Device </dev/dsp> could not be opened for writing: No such file or directory\n",
      "ALSA lib seq_hw.c:466:(snd_seq_hw_open) open /dev/snd/seq failed: No such file or directory\n",
      "fluidsynth: error: Error opening ALSA sequencer\n",
      "fluidsynth: error: Failed to create PulseAudio connection, because pa_simple_new() failed with error: Invalid server\n",
      "ALSA lib seq_hw.c:466:(snd_seq_hw_open) open /dev/snd/seq failed: No such file or directory\n",
      "fluidsynth: error: Error opening ALSA sequencer\n",
      "Cannot connect to server socket err = No such file or directory\n",
      "Cannot connect to server request channel\n",
      "\n",
      "Usage: jackdmp [ --no-realtime OR -r ]\n",
      "               [ --realtime OR -R [ --realtime-priority OR -P priority ] ]\n",
      "      (the two previous arguments are mutually exclusive. The default is --realtime)\n",
      "               [ --name OR -n server-name ]\n",
      "               [ --timeout OR -t client-timeout-in-msecs ]\n",
      "               [ --loopback OR -L loopback-port-number ]\n",
      "               [ --port-max OR -p maximum-number-of-ports]\n",
      "               [ --slave-backend OR -X slave-backend-name ]\n",
      "               [ --internal-client OR -I internal-client-name ]\n",
      "               [ --internal-session-file OR -C internal-session-file ]\n",
      "               [ --verbose OR -v ]\n",
      "               [ --clocksource OR -c [ h(pet) | s(ystem) ]\n",
      "               [ --autoconnect OR -a <modechar>]\n",
      "                 where <modechar> is one of:\n",
      "                   ' ' - Don't restrict self connect requests (default)\n",
      "                   'E' - Fail self connect requests to external ports only\n",
      "                   'e' - Ignore self connect requests to external ports only\n",
      "                   'A' - Fail all self connect requests\n",
      "                   'a' - Ignore all self connect requests\n",
      "               [ --replace-registry ]\n",
      "               [ --silent OR -s ]\n",
      "               [ --sync OR -S ]\n",
      "               [ --temporary OR -T ]\n",
      "               [ --version OR -V ]\n",
      "         -d master-backend-name [ ... master-backend args ... ]\n",
      "       jackdmp -d master-backend-name --help\n",
      "             to display options for each master backend\n",
      "\n",
      "Cannot connect to server socket err = No such file or directory\n",
      "Cannot connect to server request channel\n",
      "Cannot connect to server socket err = No such file or directory\n",
      "Cannot connect to server request channel\n",
      "Cannot connect to server socket err = No such file or directory\n",
      "Cannot connect to server request channel\n",
      "Cannot connect to server socket err = No such file or directory\n",
      "Cannot connect to server request channel\n",
      "Cannot connect to server socket err = No such file or directory\n",
      "Cannot connect to server request channel\n",
      "jack server is not running or cannot be started\n",
      "JackShmReadWritePtr::~JackShmReadWritePtr - Init not done for -1, skipping unlock\n",
      "JackShmReadWritePtr::~JackShmReadWritePtr - Init not done for -1, skipping unlock\n",
      "fluidsynth: error: Failed to connect to Jack server.\n",
      "ALSA lib seq_hw.c:466:(snd_seq_hw_open) open /dev/snd/seq failed: No such file or directory\n",
      "fluidsynth: error: Error opening ALSA sequencer\n",
      "fluidsynth: error: Couldn't find the requested audio driver 'portaudio'.\n",
      "fluidsynth: This build of fluidsynth supports the following audio drivers: alsa, file, jack, oss, pulseaudio, sdl2\n",
      "ALSA lib seq_hw.c:466:(snd_seq_hw_open) open /dev/snd/seq failed: No such file or directory\n",
      "fluidsynth: error: Error opening ALSA sequencer\n",
      "fluidsynth: error: Couldn't find the requested audio driver 'sndmgr'.\n",
      "fluidsynth: This build of fluidsynth supports the following audio drivers: alsa, file, jack, oss, pulseaudio, sdl2\n",
      "ALSA lib seq_hw.c:466:(snd_seq_hw_open) open /dev/snd/seq failed: No such file or directory\n",
      "fluidsynth: error: Error opening ALSA sequencer\n",
      "WARNING:root:No working audio driver was found; synth output will not be available.\n",
      "WARNING:root:pynput was not found; mouse and keyboard input will not be available.\n"
     ]
    }
   ],
   "source": [
    "from os.path import join\n",
    "from scamp import test_run, Session, settings, wait\n",
    "from config import ARTIFACTS_RELPATH\n",
    "from utils.scamp import set_default_scamp_settings\n",
    "from utils.supercollider import SuperCollider\n",
    "from scamp_extensions.pitch import Scale, ScaleType, hertz_to_midi\n",
    "from numbers import Real\n",
    "from operator import itemgetter\n",
    "from itertools import chain\n",
    "import numpy as np\n",
    "from config import ARTIFACTS_RELPATH\n",
    "\n",
    "set_default_scamp_settings()"
   ]
  },
  {
   "cell_type": "code",
   "execution_count": 3,
   "metadata": {},
   "outputs": [],
   "source": [
    "HOST = \"supercollider\"\n",
    "session = Session().run_as_server()\n",
    "session.tempo = 65\n",
    "\n",
    "supercollider = SuperCollider(\n",
    "    join(ARTIFACTS_RELPATH, \"scd_runtime.json\"), HOST\n",
    ")\n",
    "connection_params = {\n",
    "    \"port\": supercollider.get_lang_port(),\n",
    "    \"ip_address\": HOST,\n",
    "}\n",
    "inst1 = session.new_osc_part(\n",
    "    \"scamp1\", port=supercollider.get_lang_port(), ip_address=HOST\n",
    ")\n",
    "inst2 = session.new_osc_part(\n",
    "    \"scamp1\", port=supercollider.get_lang_port(), ip_address=HOST\n",
    ")"
   ]
  },
  {
   "cell_type": "code",
   "execution_count": 3,
   "metadata": {},
   "outputs": [],
   "source": [
    "def bach_bwv_147_10():\n",
    "    # fmt: off\n",
    "    # JS Bach, BWV 147 No.10 - Jesu, Joy of Man's Desiring\n",
    "    bach_bwv_147_10_sequence = np.array( [\n",
    "            [ 0, 2, 4, 7, 5, 5, 9, 7, 7, 12, 11, 12, 7, 4, 0, 2, 4, ],\n",
    "            # [ 5, 7, 9, 7, 5, 4, 2, 4, 0, -1, 0, 2, -5, -1, 2, 5, 4, 2, 4, ],\n",
    "            # [ 0, 2, 4, 7, 5, 5, 9, 7, 7, 12, 11, 12, 7, 4, ],\n",
    "            # [ 0, 2, 4, -5, 7, 5, 4, 2, 0, -5, 0, -1, 0, 4, 7, 12, 7, 4, ],\n",
    "        ],\n",
    "        dtype=object,\n",
    "    )\n",
    "    # fmt: on\n",
    "    sequence = [\n",
    "        48 + i for i in np.hstack(bach_bwv_147_10_sequence).tolist()\n",
    "    ] * 16\n",
    "    velocities = np.repeat(0.8, len(sequence)).tolist()\n",
    "    durations = np.repeat(1 / 3, len(sequence)).tolist()\n",
    "\n",
    "    for pitch, velocity, duration in zip(sequence, velocities, durations):\n",
    "        inst1.play_note(\n",
    "            pitch,\n",
    "            velocity,\n",
    "            duration,\n",
    "            [{\"articulations\": \"staccato\"}],\n",
    "        )\n",
    "        # wait(duration)"
   ]
  },
  {
   "cell_type": "code",
   "execution_count": 4,
   "metadata": {},
   "outputs": [],
   "source": [
    "def some_bass_line(note_duration: float):\n",
    "    sequence = [48 + i for i in [0, 2, 4]] * 6\n",
    "    velocities = np.repeat(0.8, len(sequence)).tolist()\n",
    "    durations = np.repeat(note_duration, len(sequence)).tolist()\n",
    "\n",
    "    for pitch, velocity, duration in zip(sequence, velocities, durations):\n",
    "        inst2.play_note(\n",
    "            pitch,\n",
    "            velocity,\n",
    "            duration,\n",
    "            [{\"articulations\": \"staccato\"}, \"pitch - 12\"],\n",
    "        )\n",
    "        # wait(duration)"
   ]
  },
  {
   "cell_type": "code",
   "execution_count": 7,
   "metadata": {},
   "outputs": [
    {
     "ename": "ValueError",
     "evalue": "list.remove(x): x not in list",
     "output_type": "error",
     "traceback": [
      "\u001b[0;31m---------------------------------------------------------------------------\u001b[0m",
      "\u001b[0;31mValueError\u001b[0m                                Traceback (most recent call last)",
      "Cell \u001b[0;32mIn[7], line 3\u001b[0m\n\u001b[1;32m      1\u001b[0m session\u001b[38;5;241m.\u001b[39mfork(bach_bwv_147_10)\n\u001b[1;32m      2\u001b[0m session\u001b[38;5;241m.\u001b[39mfork(some_bass_line, args\u001b[38;5;241m=\u001b[39m[\u001b[38;5;241m1\u001b[39m\u001b[38;5;241m/\u001b[39m\u001b[38;5;241m2\u001b[39m])\n\u001b[0;32m----> 3\u001b[0m session\u001b[38;5;241m.\u001b[39mwait_for_children_to_finish()\n",
      "File \u001b[0;32m/opt/conda/envs/default/lib/python3.11/site-packages/clockblocks/clock.py:1309\u001b[0m, in \u001b[0;36mClock.wait_for_children_to_finish\u001b[0;34m(self)\u001b[0m\n\u001b[1;32m   1306\u001b[0m \u001b[38;5;28;01mtry\u001b[39;00m:\n\u001b[1;32m   1307\u001b[0m     \u001b[38;5;66;03m# while there are wake up calls left to do amongst the children\u001b[39;00m\n\u001b[1;32m   1308\u001b[0m     \u001b[38;5;28;01mwhile\u001b[39;00m \u001b[38;5;28mself\u001b[39m\u001b[38;5;241m.\u001b[39m_queue_has_wakeup_call():\n\u001b[0;32m-> 1309\u001b[0m         \u001b[38;5;28mself\u001b[39m\u001b[38;5;241m.\u001b[39m_handle_next_wakeup_call()\n\u001b[1;32m   1310\u001b[0m     done \u001b[38;5;241m=\u001b[39m \u001b[38;5;28;01mTrue\u001b[39;00m\n\u001b[1;32m   1311\u001b[0m \u001b[38;5;28;01mexcept\u001b[39;00m WokenEarlyError:\n\u001b[1;32m   1312\u001b[0m     \u001b[38;5;66;03m# clock was roused part-way through the wait call (usually from a thread outside the clock system)\u001b[39;00m\n",
      "File \u001b[0;32m/opt/conda/envs/default/lib/python3.11/site-packages/clockblocks/clock.py:1185\u001b[0m, in \u001b[0;36mClock._handle_next_wakeup_call\u001b[0;34m(self)\u001b[0m\n\u001b[1;32m   1181\u001b[0m \u001b[38;5;28mself\u001b[39m\u001b[38;5;241m.\u001b[39m_wait_in_parent(\u001b[38;5;28mself\u001b[39m\u001b[38;5;241m.\u001b[39mtempo_history\u001b[38;5;241m.\u001b[39mget_wait_time(beats_till_wake))\n\u001b[1;32m   1182\u001b[0m \u001b[38;5;66;03m# we only pop the wake up call if _wait_in_parent doesn't throw a WokenEarlyException\u001b[39;00m\n\u001b[1;32m   1183\u001b[0m \u001b[38;5;66;03m# also, note that this used to be self._queue.pop(0), but occasionally this\u001b[39;00m\n\u001b[1;32m   1184\u001b[0m \u001b[38;5;66;03m# would cause an error when a different wake up call made its way in from another thread\u001b[39;00m\n\u001b[0;32m-> 1185\u001b[0m \u001b[38;5;28mself\u001b[39m\u001b[38;5;241m.\u001b[39m_queue\u001b[38;5;241m.\u001b[39mremove(next_wake_up_call)\n\u001b[1;32m   1186\u001b[0m \u001b[38;5;28mself\u001b[39m\u001b[38;5;241m.\u001b[39m_advance_tempo_map_to_beat(wake_up_beat)\n\u001b[1;32m   1187\u001b[0m \u001b[38;5;66;03m# tell the process of the clock being woken to go ahead and do it's thing\u001b[39;00m\n",
      "\u001b[0;31mValueError\u001b[0m: list.remove(x): x not in list"
     ]
    }
   ],
   "source": [
    "session.fork(bach_bwv_147_10)\n",
    "session.fork(some_bass_line, args=[1 / 2])\n",
    "session.wait_for_children_to_finish()"
   ]
  },
  {
   "cell_type": "code",
   "execution_count": 9,
   "metadata": {},
   "outputs": [],
   "source": [
    "session.fast_forward(1000)\n",
    "# sequence = [0, 5, 7, 13, 5, 7, 1] * 4\n",
    "# sequence = [48 + i for i in sequence]\n",
    "# for root in sequence:\n",
    "#     chord = [root + i for i in range(0, 13, 2)]\n",
    "#     inst.play_chord(chord, 0.8, 2)\n",
    "#     wait(2)"
   ]
  },
  {
   "cell_type": "code",
   "execution_count": null,
   "metadata": {},
   "outputs": [],
   "source": []
  }
 ],
 "metadata": {
  "kernelspec": {
   "display_name": "Python 3.11.6 64-bit ('default')",
   "language": "python",
   "name": "python3"
  },
  "language_info": {
   "codemirror_mode": {
    "name": "ipython",
    "version": 3
   },
   "file_extension": ".py",
   "mimetype": "text/x-python",
   "name": "python",
   "nbconvert_exporter": "python",
   "pygments_lexer": "ipython3",
   "version": "3.11.6"
  },
  "orig_nbformat": 4,
  "vscode": {
   "interpreter": {
    "hash": "b19c504e0abe9af0b80e78d873495a79ef781516362c519732adc3cb489b6869"
   }
  }
 },
 "nbformat": 4,
 "nbformat_minor": 2
}
