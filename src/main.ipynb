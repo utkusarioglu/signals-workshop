{
 "cells": [
  {
   "cell_type": "code",
   "execution_count": 2,
   "metadata": {},
   "outputs": [],
   "source": [
    "from scipy.io import wavfile\n",
    "from sound_tools import SoundTools"
   ]
  },
  {
   "cell_type": "code",
   "execution_count": 3,
   "metadata": {},
   "outputs": [],
   "source": [
    "artifacts_path = \"../artifacts\"\n",
    "export_file_path = f\"{artifacts_path}/export.wav\""
   ]
  },
  {
   "cell_type": "code",
   "execution_count": 4,
   "metadata": {},
   "outputs": [],
   "source": [
    "signal = SoundTools.create_sequence(\n",
    "    [1, \"C6\"],\n",
    "    [2.0, \"C4 E5\"],\n",
    "    [0.5, \"C4 E4 A4\"],\n",
    "    [2.0, \"D4 E4 G4\"],\n",
    "    [1.0, \"E4 F4 B4\"],\n",
    "    [0.5, \"E4 A4 C5\"],\n",
    "    [2.0, \"E4 A4\"],\n",
    ")\n",
    "\n",
    "wavfile.write(export_file_path, SoundTools.sample_rate, signal)"
   ]
  }
 ],
 "metadata": {
  "kernelspec": {
   "display_name": "Python 3.10.10 ('default')",
   "language": "python",
   "name": "python3"
  },
  "language_info": {
   "codemirror_mode": {
    "name": "ipython",
    "version": 3
   },
   "file_extension": ".py",
   "mimetype": "text/x-python",
   "name": "python",
   "nbconvert_exporter": "python",
   "pygments_lexer": "ipython3",
   "version": "3.10.10"
  },
  "orig_nbformat": 4,
  "vscode": {
   "interpreter": {
    "hash": "b19c504e0abe9af0b80e78d873495a79ef781516362c519732adc3cb489b6869"
   }
  }
 },
 "nbformat": 4,
 "nbformat_minor": 2
}
